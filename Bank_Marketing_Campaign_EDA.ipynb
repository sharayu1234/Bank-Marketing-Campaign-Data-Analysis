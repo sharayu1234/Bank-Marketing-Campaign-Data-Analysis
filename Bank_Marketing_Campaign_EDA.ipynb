{
  "nbformat": 4,
  "nbformat_minor": 0,
  "metadata": {
    "kernelspec": {
      "display_name": "Python 3",
      "language": "python",
      "name": "python3"
    },
    "language_info": {
      "codemirror_mode": {
        "name": "ipython",
        "version": 3
      },
      "file_extension": ".py",
      "mimetype": "text/x-python",
      "name": "python",
      "nbconvert_exporter": "python",
      "pygments_lexer": "ipython3",
      "version": "3.7.3"
    },
    "colab": {
      "name": "Bank_Marketing_Campaign_EDA.ipynb",
      "provenance": [],
      "collapsed_sections": []
    }
  },
  "cells": [
    {
      "cell_type": "markdown",
      "metadata": {
        "id": "NnxMI3mrFWDh"
      },
      "source": [
        "## Bank Telemarketing Campaign Case Study."
      ]
    },
    {
      "cell_type": "markdown",
      "metadata": {
        "id": "FJcbqepgFWD3"
      },
      "source": [
        "In this case study you’ll be learning Exploratory Data Analytics with the help of a case study on \"Bank marketing campaign\". This will enable you to understand why EDA is a most important step in the process of Machine Learning."
      ]
    },
    {
      "cell_type": "markdown",
      "metadata": {
        "id": "IKTCC3kjFWD5"
      },
      "source": [
        "#### Problem Statement:"
      ]
    },
    {
      "cell_type": "markdown",
      "metadata": {
        "id": "Dn7scKr5FWD5"
      },
      "source": [
        " \n",
        "\n",
        "The bank provides financial services/products such as savings accounts, current accounts, debit cards, etc. to its customers. In order to increase its overall revenue, the bank conducts various marketing campaigns for its financial products such as credit cards, term deposits, loans, etc. These campaigns are intended for the bank’s existing customers. However, the marketing campaigns need to be cost-efficient so that the bank not only increases their overall revenues but also the total profit. You need to apply your knowledge of EDA on the given dataset to analyse the patterns and provide inferences/solutions for the future marketing campaign.\n",
        "\n",
        "The bank conducted a telemarketing campaign for one of its financial products ‘Term Deposits’ to help foster long-term relationships with existing customers. The dataset contains information about all the customers who were contacted during a particular year to open term deposit accounts.\n",
        "\n",
        "\n",
        "**What is the term Deposit?**\n",
        "\n",
        "Term deposits also called fixed deposits, are the cash investments made for a specific time period ranging from 1 month to 5 years for predetermined fixed interest rates. The fixed interest rates offered for term deposits are higher than the regular interest rates for savings accounts. The customers receive the total amount (investment plus the interest) at the end of the maturity period. Also, the money can only be withdrawn at the end of the maturity period. Withdrawing money before that will result in an added penalty associated, and the customer will not receive any interest returns.\n",
        "\n",
        "Your target is to do end to end EDA on this bank telemarketing campaign data set to infer knowledge that where bank has to put more effort to improve it's positive response rate. "
      ]
    },
    {
      "cell_type": "markdown",
      "metadata": {
        "id": "GMI1hiHnFWD8"
      },
      "source": [
        "#### Importing the libraries."
      ]
    },
    {
      "cell_type": "code",
      "metadata": {
        "id": "mt0Q325bFWD_"
      },
      "source": [
        "import numpy as np\n",
        "import pandas as pd\n",
        "import matplotlib.pyplot as plt\n",
        "import seaborn as sns"
      ],
      "execution_count": null,
      "outputs": []
    },
    {
      "cell_type": "markdown",
      "metadata": {
        "id": "GYYV8MuxFWEB"
      },
      "source": [
        "## Session- 2, Data Cleaning "
      ]
    },
    {
      "cell_type": "markdown",
      "metadata": {
        "id": "qt3W9acmFWEB"
      },
      "source": [
        "### Segment- 2, Data Types "
      ]
    },
    {
      "cell_type": "markdown",
      "metadata": {
        "id": "SZqVcvIsFWEC"
      },
      "source": [
        "There are multiple types of data types available in the data set. some of them are numerical type and some of categorical type. You are required to get the idea about the data types after reading the data frame. \n",
        "\n",
        "Following are the some of the types of variables:\n",
        "- **Numeric data type**: banking dataset: salary, balance, duration and age.\n",
        "- **Categorical data type**: banking dataset: education, job, marital, poutcome and month etc.\n",
        "- **Ordinal data type**: banking dataset: Age group.\n",
        "- **Time and date type** \n",
        "- **Coordinates type of data**: latitude and longitude type.\n"
      ]
    },
    {
      "cell_type": "markdown",
      "metadata": {
        "id": "41HEDwNTFWEC"
      },
      "source": [
        "#### Read in the Data set. "
      ]
    },
    {
      "cell_type": "code",
      "metadata": {
        "colab": {
          "base_uri": "https://localhost:8080/"
        },
        "id": "BoN5-qN0FWED",
        "outputId": "aac3d864-cdd9-4c33-cbf8-7a34e0d98456"
      },
      "source": [
        "#read the data set of \"bank telemarketing campaign\" in inp0.\n",
        "inp0= pd.read_csv(\"bank_marketing_updated_v1.csv\")"
      ],
      "execution_count": null,
      "outputs": [
        {
          "output_type": "stream",
          "text": [
            "/usr/local/lib/python3.6/dist-packages/IPython/core/interactiveshell.py:2718: DtypeWarning: Columns (0,1,2,3,11,14,15,16) have mixed types.Specify dtype option on import or set low_memory=False.\n",
            "  interactivity=interactivity, compiler=compiler, result=result)\n"
          ],
          "name": "stderr"
        }
      ]
    },
    {
      "cell_type": "code",
      "metadata": {
        "colab": {
          "base_uri": "https://localhost:8080/",
          "height": 361
        },
        "id": "CYfE-eHZFWED",
        "outputId": "a56bc6a3-aef3-4e44-8656-14e42c32544c"
      },
      "source": [
        "#Print the head of the data frame.\n",
        "inp0.head()"
      ],
      "execution_count": null,
      "outputs": [
        {
          "output_type": "execute_result",
          "data": {
            "text/html": [
              "<div>\n",
              "<style scoped>\n",
              "    .dataframe tbody tr th:only-of-type {\n",
              "        vertical-align: middle;\n",
              "    }\n",
              "\n",
              "    .dataframe tbody tr th {\n",
              "        vertical-align: top;\n",
              "    }\n",
              "\n",
              "    .dataframe thead th {\n",
              "        text-align: right;\n",
              "    }\n",
              "</style>\n",
              "<table border=\"1\" class=\"dataframe\">\n",
              "  <thead>\n",
              "    <tr style=\"text-align: right;\">\n",
              "      <th></th>\n",
              "      <th>banking marketing</th>\n",
              "      <th>Unnamed: 1</th>\n",
              "      <th>Unnamed: 2</th>\n",
              "      <th>Unnamed: 3</th>\n",
              "      <th>Unnamed: 4</th>\n",
              "      <th>Unnamed: 5</th>\n",
              "      <th>Unnamed: 6</th>\n",
              "      <th>Unnamed: 7</th>\n",
              "      <th>Unnamed: 8</th>\n",
              "      <th>Unnamed: 9</th>\n",
              "      <th>Unnamed: 10</th>\n",
              "      <th>Unnamed: 11</th>\n",
              "      <th>Unnamed: 12</th>\n",
              "      <th>Unnamed: 13</th>\n",
              "      <th>Unnamed: 14</th>\n",
              "      <th>Unnamed: 15</th>\n",
              "      <th>Unnamed: 16</th>\n",
              "      <th>Unnamed: 17</th>\n",
              "      <th>Unnamed: 18</th>\n",
              "    </tr>\n",
              "  </thead>\n",
              "  <tbody>\n",
              "    <tr>\n",
              "      <th>0</th>\n",
              "      <td>customer id and age.</td>\n",
              "      <td>NaN</td>\n",
              "      <td>Customer salary and balance.</td>\n",
              "      <td>NaN</td>\n",
              "      <td>Customer marital status and job with education...</td>\n",
              "      <td>NaN</td>\n",
              "      <td>particular customer before targeted or not</td>\n",
              "      <td>NaN</td>\n",
              "      <td>Loan types: loans or housing loans</td>\n",
              "      <td>NaN</td>\n",
              "      <td>Contact type</td>\n",
              "      <td>NaN</td>\n",
              "      <td>month of contact</td>\n",
              "      <td>duration of call</td>\n",
              "      <td>NaN</td>\n",
              "      <td>NaN</td>\n",
              "      <td>NaN</td>\n",
              "      <td>outcome of previous contact</td>\n",
              "      <td>response of customer after call happned</td>\n",
              "    </tr>\n",
              "    <tr>\n",
              "      <th>1</th>\n",
              "      <td>customerid</td>\n",
              "      <td>age</td>\n",
              "      <td>salary</td>\n",
              "      <td>balance</td>\n",
              "      <td>marital</td>\n",
              "      <td>jobedu</td>\n",
              "      <td>targeted</td>\n",
              "      <td>default</td>\n",
              "      <td>housing</td>\n",
              "      <td>loan</td>\n",
              "      <td>contact</td>\n",
              "      <td>day</td>\n",
              "      <td>month</td>\n",
              "      <td>duration</td>\n",
              "      <td>campaign</td>\n",
              "      <td>pdays</td>\n",
              "      <td>previous</td>\n",
              "      <td>poutcome</td>\n",
              "      <td>response</td>\n",
              "    </tr>\n",
              "    <tr>\n",
              "      <th>2</th>\n",
              "      <td>1</td>\n",
              "      <td>58</td>\n",
              "      <td>100000</td>\n",
              "      <td>2143</td>\n",
              "      <td>married</td>\n",
              "      <td>management,tertiary</td>\n",
              "      <td>yes</td>\n",
              "      <td>no</td>\n",
              "      <td>yes</td>\n",
              "      <td>no</td>\n",
              "      <td>unknown</td>\n",
              "      <td>5</td>\n",
              "      <td>may, 2017</td>\n",
              "      <td>261 sec</td>\n",
              "      <td>1</td>\n",
              "      <td>-1</td>\n",
              "      <td>0</td>\n",
              "      <td>unknown</td>\n",
              "      <td>no</td>\n",
              "    </tr>\n",
              "    <tr>\n",
              "      <th>3</th>\n",
              "      <td>2</td>\n",
              "      <td>44</td>\n",
              "      <td>60000</td>\n",
              "      <td>29</td>\n",
              "      <td>single</td>\n",
              "      <td>technician,secondary</td>\n",
              "      <td>yes</td>\n",
              "      <td>no</td>\n",
              "      <td>yes</td>\n",
              "      <td>no</td>\n",
              "      <td>unknown</td>\n",
              "      <td>5</td>\n",
              "      <td>may, 2017</td>\n",
              "      <td>151 sec</td>\n",
              "      <td>1</td>\n",
              "      <td>-1</td>\n",
              "      <td>0</td>\n",
              "      <td>unknown</td>\n",
              "      <td>no</td>\n",
              "    </tr>\n",
              "    <tr>\n",
              "      <th>4</th>\n",
              "      <td>3</td>\n",
              "      <td>33</td>\n",
              "      <td>120000</td>\n",
              "      <td>2</td>\n",
              "      <td>married</td>\n",
              "      <td>entrepreneur,secondary</td>\n",
              "      <td>yes</td>\n",
              "      <td>no</td>\n",
              "      <td>yes</td>\n",
              "      <td>yes</td>\n",
              "      <td>unknown</td>\n",
              "      <td>5</td>\n",
              "      <td>may, 2017</td>\n",
              "      <td>76 sec</td>\n",
              "      <td>1</td>\n",
              "      <td>-1</td>\n",
              "      <td>0</td>\n",
              "      <td>unknown</td>\n",
              "      <td>no</td>\n",
              "    </tr>\n",
              "  </tbody>\n",
              "</table>\n",
              "</div>"
            ],
            "text/plain": [
              "      banking marketing  ...                              Unnamed: 18\n",
              "0  customer id and age.  ...  response of customer after call happned\n",
              "1            customerid  ...                                 response\n",
              "2                     1  ...                                       no\n",
              "3                     2  ...                                       no\n",
              "4                     3  ...                                       no\n",
              "\n",
              "[5 rows x 19 columns]"
            ]
          },
          "metadata": {
            "tags": []
          },
          "execution_count": 417
        }
      ]
    },
    {
      "cell_type": "markdown",
      "metadata": {
        "id": "ntwSzQQXFWED"
      },
      "source": [
        "### Segment- 3, Fixing the Rows and Columns "
      ]
    },
    {
      "cell_type": "markdown",
      "metadata": {
        "id": "fe-T_VpYFWEE"
      },
      "source": [
        "Checklist for fixing rows:\n",
        "- **Delete summary rows**: Total and Subtotal rows\n",
        "- **Delete incorrect rows**: Header row and footer row\n",
        "- **Delete extra rows**: Column number, indicators, Blank rows, Page No.\n",
        "\n",
        "Checklist for fixing columns:\n",
        "- **Merge columns for creating unique identifiers**, if needed, for example, merge the columns State and City into the column Full address.\n",
        "- **Split columns to get more data**: Split the Address column to get State and City columns to analyse each separately. \n",
        "- **Add column names**: Add column names if missing.\n",
        "- **Rename columns consistently**: Abbreviations, encoded columns.\n",
        "- **Delete columns**: Delete unnecessary columns.\n",
        "- **Align misaligned columns**: The data set may have shifted columns, which you need to align correctly.\n"
      ]
    },
    {
      "cell_type": "markdown",
      "metadata": {
        "id": "tkQ1VBxZFWEE"
      },
      "source": [
        "#### Read the file without unnecessary headers."
      ]
    },
    {
      "cell_type": "code",
      "metadata": {
        "id": "DlVyMpk-FWEE"
      },
      "source": [
        "#read the file in inp0 without first two rows as it is of no use.\n",
        "inp0= pd.read_csv(\"bank_marketing_updated_v1.csv\",skiprows=2)"
      ],
      "execution_count": null,
      "outputs": []
    },
    {
      "cell_type": "code",
      "metadata": {
        "id": "zDLmez7DFWEF",
        "colab": {
          "base_uri": "https://localhost:8080/",
          "height": 309
        },
        "outputId": "8546e4ab-acf6-4fc5-b81a-d4be09b06fb5"
      },
      "source": [
        "#print the head of the data frame.\n",
        "inp0.head()"
      ],
      "execution_count": null,
      "outputs": [
        {
          "output_type": "execute_result",
          "data": {
            "text/html": [
              "<div>\n",
              "<style scoped>\n",
              "    .dataframe tbody tr th:only-of-type {\n",
              "        vertical-align: middle;\n",
              "    }\n",
              "\n",
              "    .dataframe tbody tr th {\n",
              "        vertical-align: top;\n",
              "    }\n",
              "\n",
              "    .dataframe thead th {\n",
              "        text-align: right;\n",
              "    }\n",
              "</style>\n",
              "<table border=\"1\" class=\"dataframe\">\n",
              "  <thead>\n",
              "    <tr style=\"text-align: right;\">\n",
              "      <th></th>\n",
              "      <th>customerid</th>\n",
              "      <th>age</th>\n",
              "      <th>salary</th>\n",
              "      <th>balance</th>\n",
              "      <th>marital</th>\n",
              "      <th>jobedu</th>\n",
              "      <th>targeted</th>\n",
              "      <th>default</th>\n",
              "      <th>housing</th>\n",
              "      <th>loan</th>\n",
              "      <th>contact</th>\n",
              "      <th>day</th>\n",
              "      <th>month</th>\n",
              "      <th>duration</th>\n",
              "      <th>campaign</th>\n",
              "      <th>pdays</th>\n",
              "      <th>previous</th>\n",
              "      <th>poutcome</th>\n",
              "      <th>response</th>\n",
              "    </tr>\n",
              "  </thead>\n",
              "  <tbody>\n",
              "    <tr>\n",
              "      <th>0</th>\n",
              "      <td>1</td>\n",
              "      <td>58.0</td>\n",
              "      <td>100000</td>\n",
              "      <td>2143</td>\n",
              "      <td>married</td>\n",
              "      <td>management,tertiary</td>\n",
              "      <td>yes</td>\n",
              "      <td>no</td>\n",
              "      <td>yes</td>\n",
              "      <td>no</td>\n",
              "      <td>unknown</td>\n",
              "      <td>5</td>\n",
              "      <td>may, 2017</td>\n",
              "      <td>261 sec</td>\n",
              "      <td>1</td>\n",
              "      <td>-1</td>\n",
              "      <td>0</td>\n",
              "      <td>unknown</td>\n",
              "      <td>no</td>\n",
              "    </tr>\n",
              "    <tr>\n",
              "      <th>1</th>\n",
              "      <td>2</td>\n",
              "      <td>44.0</td>\n",
              "      <td>60000</td>\n",
              "      <td>29</td>\n",
              "      <td>single</td>\n",
              "      <td>technician,secondary</td>\n",
              "      <td>yes</td>\n",
              "      <td>no</td>\n",
              "      <td>yes</td>\n",
              "      <td>no</td>\n",
              "      <td>unknown</td>\n",
              "      <td>5</td>\n",
              "      <td>may, 2017</td>\n",
              "      <td>151 sec</td>\n",
              "      <td>1</td>\n",
              "      <td>-1</td>\n",
              "      <td>0</td>\n",
              "      <td>unknown</td>\n",
              "      <td>no</td>\n",
              "    </tr>\n",
              "    <tr>\n",
              "      <th>2</th>\n",
              "      <td>3</td>\n",
              "      <td>33.0</td>\n",
              "      <td>120000</td>\n",
              "      <td>2</td>\n",
              "      <td>married</td>\n",
              "      <td>entrepreneur,secondary</td>\n",
              "      <td>yes</td>\n",
              "      <td>no</td>\n",
              "      <td>yes</td>\n",
              "      <td>yes</td>\n",
              "      <td>unknown</td>\n",
              "      <td>5</td>\n",
              "      <td>may, 2017</td>\n",
              "      <td>76 sec</td>\n",
              "      <td>1</td>\n",
              "      <td>-1</td>\n",
              "      <td>0</td>\n",
              "      <td>unknown</td>\n",
              "      <td>no</td>\n",
              "    </tr>\n",
              "    <tr>\n",
              "      <th>3</th>\n",
              "      <td>4</td>\n",
              "      <td>47.0</td>\n",
              "      <td>20000</td>\n",
              "      <td>1506</td>\n",
              "      <td>married</td>\n",
              "      <td>blue-collar,unknown</td>\n",
              "      <td>no</td>\n",
              "      <td>no</td>\n",
              "      <td>yes</td>\n",
              "      <td>no</td>\n",
              "      <td>unknown</td>\n",
              "      <td>5</td>\n",
              "      <td>may, 2017</td>\n",
              "      <td>92 sec</td>\n",
              "      <td>1</td>\n",
              "      <td>-1</td>\n",
              "      <td>0</td>\n",
              "      <td>unknown</td>\n",
              "      <td>no</td>\n",
              "    </tr>\n",
              "    <tr>\n",
              "      <th>4</th>\n",
              "      <td>5</td>\n",
              "      <td>33.0</td>\n",
              "      <td>0</td>\n",
              "      <td>1</td>\n",
              "      <td>single</td>\n",
              "      <td>unknown,unknown</td>\n",
              "      <td>no</td>\n",
              "      <td>no</td>\n",
              "      <td>no</td>\n",
              "      <td>no</td>\n",
              "      <td>unknown</td>\n",
              "      <td>5</td>\n",
              "      <td>may, 2017</td>\n",
              "      <td>198 sec</td>\n",
              "      <td>1</td>\n",
              "      <td>-1</td>\n",
              "      <td>0</td>\n",
              "      <td>unknown</td>\n",
              "      <td>no</td>\n",
              "    </tr>\n",
              "  </tbody>\n",
              "</table>\n",
              "</div>"
            ],
            "text/plain": [
              "   customerid   age  salary  balance  ... pdays previous poutcome response\n",
              "0           1  58.0  100000     2143  ...    -1        0  unknown       no\n",
              "1           2  44.0   60000       29  ...    -1        0  unknown       no\n",
              "2           3  33.0  120000        2  ...    -1        0  unknown       no\n",
              "3           4  47.0   20000     1506  ...    -1        0  unknown       no\n",
              "4           5  33.0       0        1  ...    -1        0  unknown       no\n",
              "\n",
              "[5 rows x 19 columns]"
            ]
          },
          "metadata": {
            "tags": []
          },
          "execution_count": 419
        }
      ]
    },
    {
      "cell_type": "code",
      "metadata": {
        "id": "WTSVLKqQFWEG",
        "colab": {
          "base_uri": "https://localhost:8080/"
        },
        "outputId": "e8cfa288-721e-47c9-8152-367c4e1ab847"
      },
      "source": [
        "#print the information of variables to check their data types.\n",
        "inp0.info()"
      ],
      "execution_count": null,
      "outputs": [
        {
          "output_type": "stream",
          "text": [
            "<class 'pandas.core.frame.DataFrame'>\n",
            "RangeIndex: 45211 entries, 0 to 45210\n",
            "Data columns (total 19 columns):\n",
            " #   Column      Non-Null Count  Dtype  \n",
            "---  ------      --------------  -----  \n",
            " 0   customerid  45211 non-null  int64  \n",
            " 1   age         45191 non-null  float64\n",
            " 2   salary      45211 non-null  int64  \n",
            " 3   balance     45211 non-null  int64  \n",
            " 4   marital     45211 non-null  object \n",
            " 5   jobedu      45211 non-null  object \n",
            " 6   targeted    45211 non-null  object \n",
            " 7   default     45211 non-null  object \n",
            " 8   housing     45211 non-null  object \n",
            " 9   loan        45211 non-null  object \n",
            " 10  contact     45211 non-null  object \n",
            " 11  day         45211 non-null  int64  \n",
            " 12  month       45161 non-null  object \n",
            " 13  duration    45211 non-null  object \n",
            " 14  campaign    45211 non-null  int64  \n",
            " 15  pdays       45211 non-null  int64  \n",
            " 16  previous    45211 non-null  int64  \n",
            " 17  poutcome    45211 non-null  object \n",
            " 18  response    45181 non-null  object \n",
            "dtypes: float64(1), int64(7), object(11)\n",
            "memory usage: 6.6+ MB\n"
          ],
          "name": "stdout"
        }
      ]
    },
    {
      "cell_type": "code",
      "metadata": {
        "id": "Jm9oTI32FWEH"
      },
      "source": [
        "#convert the age variable data type from float to integer.\n"
      ],
      "execution_count": null,
      "outputs": []
    },
    {
      "cell_type": "code",
      "metadata": {
        "id": "PDjjNbn2FWEI"
      },
      "source": [
        "#print the average age of customers.\n"
      ],
      "execution_count": null,
      "outputs": []
    },
    {
      "cell_type": "markdown",
      "metadata": {
        "id": "CeiE0VDqFWEI"
      },
      "source": [
        "#### Dropping customer id column. "
      ]
    },
    {
      "cell_type": "code",
      "metadata": {
        "id": "aijK9Yp2FWEJ"
      },
      "source": [
        "#drop the customer id as it is of no use.\n",
        "inp0.drop(\"customerid\",axis=1, inplace=True)"
      ],
      "execution_count": null,
      "outputs": []
    },
    {
      "cell_type": "markdown",
      "metadata": {
        "id": "9Ip46JuqFWEJ"
      },
      "source": [
        "#### Dividing \"jobedu\" column into job and education categories. "
      ]
    },
    {
      "cell_type": "code",
      "metadata": {
        "id": "vB0IByTlFWEK",
        "colab": {
          "base_uri": "https://localhost:8080/",
          "height": 309
        },
        "outputId": "5cf3fedd-5a0e-43ab-dd0e-42aa814ba17c"
      },
      "source": [
        "#Extract job in newly created 'job' column from \"jobedu\" column.\n",
        "inp0['job']= inp0.jobedu.apply(lambda x: x.split(\",\")[0])\n",
        "inp0.head()"
      ],
      "execution_count": null,
      "outputs": [
        {
          "output_type": "execute_result",
          "data": {
            "text/html": [
              "<div>\n",
              "<style scoped>\n",
              "    .dataframe tbody tr th:only-of-type {\n",
              "        vertical-align: middle;\n",
              "    }\n",
              "\n",
              "    .dataframe tbody tr th {\n",
              "        vertical-align: top;\n",
              "    }\n",
              "\n",
              "    .dataframe thead th {\n",
              "        text-align: right;\n",
              "    }\n",
              "</style>\n",
              "<table border=\"1\" class=\"dataframe\">\n",
              "  <thead>\n",
              "    <tr style=\"text-align: right;\">\n",
              "      <th></th>\n",
              "      <th>age</th>\n",
              "      <th>salary</th>\n",
              "      <th>balance</th>\n",
              "      <th>marital</th>\n",
              "      <th>jobedu</th>\n",
              "      <th>targeted</th>\n",
              "      <th>default</th>\n",
              "      <th>housing</th>\n",
              "      <th>loan</th>\n",
              "      <th>contact</th>\n",
              "      <th>day</th>\n",
              "      <th>month</th>\n",
              "      <th>duration</th>\n",
              "      <th>campaign</th>\n",
              "      <th>pdays</th>\n",
              "      <th>previous</th>\n",
              "      <th>poutcome</th>\n",
              "      <th>response</th>\n",
              "      <th>job</th>\n",
              "    </tr>\n",
              "  </thead>\n",
              "  <tbody>\n",
              "    <tr>\n",
              "      <th>0</th>\n",
              "      <td>58.0</td>\n",
              "      <td>100000</td>\n",
              "      <td>2143</td>\n",
              "      <td>married</td>\n",
              "      <td>management,tertiary</td>\n",
              "      <td>yes</td>\n",
              "      <td>no</td>\n",
              "      <td>yes</td>\n",
              "      <td>no</td>\n",
              "      <td>unknown</td>\n",
              "      <td>5</td>\n",
              "      <td>may, 2017</td>\n",
              "      <td>261 sec</td>\n",
              "      <td>1</td>\n",
              "      <td>-1</td>\n",
              "      <td>0</td>\n",
              "      <td>unknown</td>\n",
              "      <td>no</td>\n",
              "      <td>management</td>\n",
              "    </tr>\n",
              "    <tr>\n",
              "      <th>1</th>\n",
              "      <td>44.0</td>\n",
              "      <td>60000</td>\n",
              "      <td>29</td>\n",
              "      <td>single</td>\n",
              "      <td>technician,secondary</td>\n",
              "      <td>yes</td>\n",
              "      <td>no</td>\n",
              "      <td>yes</td>\n",
              "      <td>no</td>\n",
              "      <td>unknown</td>\n",
              "      <td>5</td>\n",
              "      <td>may, 2017</td>\n",
              "      <td>151 sec</td>\n",
              "      <td>1</td>\n",
              "      <td>-1</td>\n",
              "      <td>0</td>\n",
              "      <td>unknown</td>\n",
              "      <td>no</td>\n",
              "      <td>technician</td>\n",
              "    </tr>\n",
              "    <tr>\n",
              "      <th>2</th>\n",
              "      <td>33.0</td>\n",
              "      <td>120000</td>\n",
              "      <td>2</td>\n",
              "      <td>married</td>\n",
              "      <td>entrepreneur,secondary</td>\n",
              "      <td>yes</td>\n",
              "      <td>no</td>\n",
              "      <td>yes</td>\n",
              "      <td>yes</td>\n",
              "      <td>unknown</td>\n",
              "      <td>5</td>\n",
              "      <td>may, 2017</td>\n",
              "      <td>76 sec</td>\n",
              "      <td>1</td>\n",
              "      <td>-1</td>\n",
              "      <td>0</td>\n",
              "      <td>unknown</td>\n",
              "      <td>no</td>\n",
              "      <td>entrepreneur</td>\n",
              "    </tr>\n",
              "    <tr>\n",
              "      <th>3</th>\n",
              "      <td>47.0</td>\n",
              "      <td>20000</td>\n",
              "      <td>1506</td>\n",
              "      <td>married</td>\n",
              "      <td>blue-collar,unknown</td>\n",
              "      <td>no</td>\n",
              "      <td>no</td>\n",
              "      <td>yes</td>\n",
              "      <td>no</td>\n",
              "      <td>unknown</td>\n",
              "      <td>5</td>\n",
              "      <td>may, 2017</td>\n",
              "      <td>92 sec</td>\n",
              "      <td>1</td>\n",
              "      <td>-1</td>\n",
              "      <td>0</td>\n",
              "      <td>unknown</td>\n",
              "      <td>no</td>\n",
              "      <td>blue-collar</td>\n",
              "    </tr>\n",
              "    <tr>\n",
              "      <th>4</th>\n",
              "      <td>33.0</td>\n",
              "      <td>0</td>\n",
              "      <td>1</td>\n",
              "      <td>single</td>\n",
              "      <td>unknown,unknown</td>\n",
              "      <td>no</td>\n",
              "      <td>no</td>\n",
              "      <td>no</td>\n",
              "      <td>no</td>\n",
              "      <td>unknown</td>\n",
              "      <td>5</td>\n",
              "      <td>may, 2017</td>\n",
              "      <td>198 sec</td>\n",
              "      <td>1</td>\n",
              "      <td>-1</td>\n",
              "      <td>0</td>\n",
              "      <td>unknown</td>\n",
              "      <td>no</td>\n",
              "      <td>unknown</td>\n",
              "    </tr>\n",
              "  </tbody>\n",
              "</table>\n",
              "</div>"
            ],
            "text/plain": [
              "    age  salary  balance  marital  ... previous poutcome response           job\n",
              "0  58.0  100000     2143  married  ...        0  unknown       no    management\n",
              "1  44.0   60000       29   single  ...        0  unknown       no    technician\n",
              "2  33.0  120000        2  married  ...        0  unknown       no  entrepreneur\n",
              "3  47.0   20000     1506  married  ...        0  unknown       no   blue-collar\n",
              "4  33.0       0        1   single  ...        0  unknown       no       unknown\n",
              "\n",
              "[5 rows x 19 columns]"
            ]
          },
          "metadata": {
            "tags": []
          },
          "execution_count": 424
        }
      ]
    },
    {
      "cell_type": "code",
      "metadata": {
        "id": "pUWzdQq8FWEK",
        "colab": {
          "base_uri": "https://localhost:8080/",
          "height": 309
        },
        "outputId": "9345f11a-e40c-4af3-c88a-ce2caafd202f"
      },
      "source": [
        "#Extract education in newly created 'education' column from \"jobedu\" column.\n",
        "inp0['education']= inp0.jobedu.apply(lambda x: x.split(\",\")[1])\n",
        "inp0.head()"
      ],
      "execution_count": null,
      "outputs": [
        {
          "output_type": "execute_result",
          "data": {
            "text/html": [
              "<div>\n",
              "<style scoped>\n",
              "    .dataframe tbody tr th:only-of-type {\n",
              "        vertical-align: middle;\n",
              "    }\n",
              "\n",
              "    .dataframe tbody tr th {\n",
              "        vertical-align: top;\n",
              "    }\n",
              "\n",
              "    .dataframe thead th {\n",
              "        text-align: right;\n",
              "    }\n",
              "</style>\n",
              "<table border=\"1\" class=\"dataframe\">\n",
              "  <thead>\n",
              "    <tr style=\"text-align: right;\">\n",
              "      <th></th>\n",
              "      <th>age</th>\n",
              "      <th>salary</th>\n",
              "      <th>balance</th>\n",
              "      <th>marital</th>\n",
              "      <th>jobedu</th>\n",
              "      <th>targeted</th>\n",
              "      <th>default</th>\n",
              "      <th>housing</th>\n",
              "      <th>loan</th>\n",
              "      <th>contact</th>\n",
              "      <th>day</th>\n",
              "      <th>month</th>\n",
              "      <th>duration</th>\n",
              "      <th>campaign</th>\n",
              "      <th>pdays</th>\n",
              "      <th>previous</th>\n",
              "      <th>poutcome</th>\n",
              "      <th>response</th>\n",
              "      <th>job</th>\n",
              "      <th>education</th>\n",
              "    </tr>\n",
              "  </thead>\n",
              "  <tbody>\n",
              "    <tr>\n",
              "      <th>0</th>\n",
              "      <td>58.0</td>\n",
              "      <td>100000</td>\n",
              "      <td>2143</td>\n",
              "      <td>married</td>\n",
              "      <td>management,tertiary</td>\n",
              "      <td>yes</td>\n",
              "      <td>no</td>\n",
              "      <td>yes</td>\n",
              "      <td>no</td>\n",
              "      <td>unknown</td>\n",
              "      <td>5</td>\n",
              "      <td>may, 2017</td>\n",
              "      <td>261 sec</td>\n",
              "      <td>1</td>\n",
              "      <td>-1</td>\n",
              "      <td>0</td>\n",
              "      <td>unknown</td>\n",
              "      <td>no</td>\n",
              "      <td>management</td>\n",
              "      <td>tertiary</td>\n",
              "    </tr>\n",
              "    <tr>\n",
              "      <th>1</th>\n",
              "      <td>44.0</td>\n",
              "      <td>60000</td>\n",
              "      <td>29</td>\n",
              "      <td>single</td>\n",
              "      <td>technician,secondary</td>\n",
              "      <td>yes</td>\n",
              "      <td>no</td>\n",
              "      <td>yes</td>\n",
              "      <td>no</td>\n",
              "      <td>unknown</td>\n",
              "      <td>5</td>\n",
              "      <td>may, 2017</td>\n",
              "      <td>151 sec</td>\n",
              "      <td>1</td>\n",
              "      <td>-1</td>\n",
              "      <td>0</td>\n",
              "      <td>unknown</td>\n",
              "      <td>no</td>\n",
              "      <td>technician</td>\n",
              "      <td>secondary</td>\n",
              "    </tr>\n",
              "    <tr>\n",
              "      <th>2</th>\n",
              "      <td>33.0</td>\n",
              "      <td>120000</td>\n",
              "      <td>2</td>\n",
              "      <td>married</td>\n",
              "      <td>entrepreneur,secondary</td>\n",
              "      <td>yes</td>\n",
              "      <td>no</td>\n",
              "      <td>yes</td>\n",
              "      <td>yes</td>\n",
              "      <td>unknown</td>\n",
              "      <td>5</td>\n",
              "      <td>may, 2017</td>\n",
              "      <td>76 sec</td>\n",
              "      <td>1</td>\n",
              "      <td>-1</td>\n",
              "      <td>0</td>\n",
              "      <td>unknown</td>\n",
              "      <td>no</td>\n",
              "      <td>entrepreneur</td>\n",
              "      <td>secondary</td>\n",
              "    </tr>\n",
              "    <tr>\n",
              "      <th>3</th>\n",
              "      <td>47.0</td>\n",
              "      <td>20000</td>\n",
              "      <td>1506</td>\n",
              "      <td>married</td>\n",
              "      <td>blue-collar,unknown</td>\n",
              "      <td>no</td>\n",
              "      <td>no</td>\n",
              "      <td>yes</td>\n",
              "      <td>no</td>\n",
              "      <td>unknown</td>\n",
              "      <td>5</td>\n",
              "      <td>may, 2017</td>\n",
              "      <td>92 sec</td>\n",
              "      <td>1</td>\n",
              "      <td>-1</td>\n",
              "      <td>0</td>\n",
              "      <td>unknown</td>\n",
              "      <td>no</td>\n",
              "      <td>blue-collar</td>\n",
              "      <td>unknown</td>\n",
              "    </tr>\n",
              "    <tr>\n",
              "      <th>4</th>\n",
              "      <td>33.0</td>\n",
              "      <td>0</td>\n",
              "      <td>1</td>\n",
              "      <td>single</td>\n",
              "      <td>unknown,unknown</td>\n",
              "      <td>no</td>\n",
              "      <td>no</td>\n",
              "      <td>no</td>\n",
              "      <td>no</td>\n",
              "      <td>unknown</td>\n",
              "      <td>5</td>\n",
              "      <td>may, 2017</td>\n",
              "      <td>198 sec</td>\n",
              "      <td>1</td>\n",
              "      <td>-1</td>\n",
              "      <td>0</td>\n",
              "      <td>unknown</td>\n",
              "      <td>no</td>\n",
              "      <td>unknown</td>\n",
              "      <td>unknown</td>\n",
              "    </tr>\n",
              "  </tbody>\n",
              "</table>\n",
              "</div>"
            ],
            "text/plain": [
              "    age  salary  balance  marital  ... poutcome response           job  education\n",
              "0  58.0  100000     2143  married  ...  unknown       no    management   tertiary\n",
              "1  44.0   60000       29   single  ...  unknown       no    technician  secondary\n",
              "2  33.0  120000        2  married  ...  unknown       no  entrepreneur  secondary\n",
              "3  47.0   20000     1506  married  ...  unknown       no   blue-collar    unknown\n",
              "4  33.0       0        1   single  ...  unknown       no       unknown    unknown\n",
              "\n",
              "[5 rows x 20 columns]"
            ]
          },
          "metadata": {
            "tags": []
          },
          "execution_count": 425
        }
      ]
    },
    {
      "cell_type": "code",
      "metadata": {
        "id": "L0p-oqS6FWEK",
        "colab": {
          "base_uri": "https://localhost:8080/",
          "height": 309
        },
        "outputId": "077c7dc4-d351-4d96-c122-f4261a7c424d"
      },
      "source": [
        "#drop the \"jobedu\" column from the dataframe.\n",
        "inp0.drop(\"jobedu\", axis=1, inplace=True)\n",
        "inp0.head()"
      ],
      "execution_count": null,
      "outputs": [
        {
          "output_type": "execute_result",
          "data": {
            "text/html": [
              "<div>\n",
              "<style scoped>\n",
              "    .dataframe tbody tr th:only-of-type {\n",
              "        vertical-align: middle;\n",
              "    }\n",
              "\n",
              "    .dataframe tbody tr th {\n",
              "        vertical-align: top;\n",
              "    }\n",
              "\n",
              "    .dataframe thead th {\n",
              "        text-align: right;\n",
              "    }\n",
              "</style>\n",
              "<table border=\"1\" class=\"dataframe\">\n",
              "  <thead>\n",
              "    <tr style=\"text-align: right;\">\n",
              "      <th></th>\n",
              "      <th>age</th>\n",
              "      <th>salary</th>\n",
              "      <th>balance</th>\n",
              "      <th>marital</th>\n",
              "      <th>targeted</th>\n",
              "      <th>default</th>\n",
              "      <th>housing</th>\n",
              "      <th>loan</th>\n",
              "      <th>contact</th>\n",
              "      <th>day</th>\n",
              "      <th>month</th>\n",
              "      <th>duration</th>\n",
              "      <th>campaign</th>\n",
              "      <th>pdays</th>\n",
              "      <th>previous</th>\n",
              "      <th>poutcome</th>\n",
              "      <th>response</th>\n",
              "      <th>job</th>\n",
              "      <th>education</th>\n",
              "    </tr>\n",
              "  </thead>\n",
              "  <tbody>\n",
              "    <tr>\n",
              "      <th>0</th>\n",
              "      <td>58.0</td>\n",
              "      <td>100000</td>\n",
              "      <td>2143</td>\n",
              "      <td>married</td>\n",
              "      <td>yes</td>\n",
              "      <td>no</td>\n",
              "      <td>yes</td>\n",
              "      <td>no</td>\n",
              "      <td>unknown</td>\n",
              "      <td>5</td>\n",
              "      <td>may, 2017</td>\n",
              "      <td>261 sec</td>\n",
              "      <td>1</td>\n",
              "      <td>-1</td>\n",
              "      <td>0</td>\n",
              "      <td>unknown</td>\n",
              "      <td>no</td>\n",
              "      <td>management</td>\n",
              "      <td>tertiary</td>\n",
              "    </tr>\n",
              "    <tr>\n",
              "      <th>1</th>\n",
              "      <td>44.0</td>\n",
              "      <td>60000</td>\n",
              "      <td>29</td>\n",
              "      <td>single</td>\n",
              "      <td>yes</td>\n",
              "      <td>no</td>\n",
              "      <td>yes</td>\n",
              "      <td>no</td>\n",
              "      <td>unknown</td>\n",
              "      <td>5</td>\n",
              "      <td>may, 2017</td>\n",
              "      <td>151 sec</td>\n",
              "      <td>1</td>\n",
              "      <td>-1</td>\n",
              "      <td>0</td>\n",
              "      <td>unknown</td>\n",
              "      <td>no</td>\n",
              "      <td>technician</td>\n",
              "      <td>secondary</td>\n",
              "    </tr>\n",
              "    <tr>\n",
              "      <th>2</th>\n",
              "      <td>33.0</td>\n",
              "      <td>120000</td>\n",
              "      <td>2</td>\n",
              "      <td>married</td>\n",
              "      <td>yes</td>\n",
              "      <td>no</td>\n",
              "      <td>yes</td>\n",
              "      <td>yes</td>\n",
              "      <td>unknown</td>\n",
              "      <td>5</td>\n",
              "      <td>may, 2017</td>\n",
              "      <td>76 sec</td>\n",
              "      <td>1</td>\n",
              "      <td>-1</td>\n",
              "      <td>0</td>\n",
              "      <td>unknown</td>\n",
              "      <td>no</td>\n",
              "      <td>entrepreneur</td>\n",
              "      <td>secondary</td>\n",
              "    </tr>\n",
              "    <tr>\n",
              "      <th>3</th>\n",
              "      <td>47.0</td>\n",
              "      <td>20000</td>\n",
              "      <td>1506</td>\n",
              "      <td>married</td>\n",
              "      <td>no</td>\n",
              "      <td>no</td>\n",
              "      <td>yes</td>\n",
              "      <td>no</td>\n",
              "      <td>unknown</td>\n",
              "      <td>5</td>\n",
              "      <td>may, 2017</td>\n",
              "      <td>92 sec</td>\n",
              "      <td>1</td>\n",
              "      <td>-1</td>\n",
              "      <td>0</td>\n",
              "      <td>unknown</td>\n",
              "      <td>no</td>\n",
              "      <td>blue-collar</td>\n",
              "      <td>unknown</td>\n",
              "    </tr>\n",
              "    <tr>\n",
              "      <th>4</th>\n",
              "      <td>33.0</td>\n",
              "      <td>0</td>\n",
              "      <td>1</td>\n",
              "      <td>single</td>\n",
              "      <td>no</td>\n",
              "      <td>no</td>\n",
              "      <td>no</td>\n",
              "      <td>no</td>\n",
              "      <td>unknown</td>\n",
              "      <td>5</td>\n",
              "      <td>may, 2017</td>\n",
              "      <td>198 sec</td>\n",
              "      <td>1</td>\n",
              "      <td>-1</td>\n",
              "      <td>0</td>\n",
              "      <td>unknown</td>\n",
              "      <td>no</td>\n",
              "      <td>unknown</td>\n",
              "      <td>unknown</td>\n",
              "    </tr>\n",
              "  </tbody>\n",
              "</table>\n",
              "</div>"
            ],
            "text/plain": [
              "    age  salary  balance  marital  ... poutcome response           job  education\n",
              "0  58.0  100000     2143  married  ...  unknown       no    management   tertiary\n",
              "1  44.0   60000       29   single  ...  unknown       no    technician  secondary\n",
              "2  33.0  120000        2  married  ...  unknown       no  entrepreneur  secondary\n",
              "3  47.0   20000     1506  married  ...  unknown       no   blue-collar    unknown\n",
              "4  33.0       0        1   single  ...  unknown       no       unknown    unknown\n",
              "\n",
              "[5 rows x 19 columns]"
            ]
          },
          "metadata": {
            "tags": []
          },
          "execution_count": 426
        }
      ]
    },
    {
      "cell_type": "markdown",
      "metadata": {
        "id": "Vyx8JGfZFWEL"
      },
      "source": [
        "### Segment- 4, Impute/Remove missing values "
      ]
    },
    {
      "cell_type": "markdown",
      "metadata": {
        "id": "lWxaJxPTFWEM"
      },
      "source": [
        "Take aways from the lecture on missing values:\n",
        "\n",
        "- **Set values as missing values**: Identify values that indicate missing data, for example, treat blank strings, \"NA\", \"XX\", \"999\", etc., as missing.\n",
        "- **Adding is good, exaggerating is bad**: You should try to get information from reliable external sources as much as possible, but if you can’t, then it is better to retain missing values rather than exaggerating the existing rows/columns.\n",
        "- **Delete rows and columns**: Rows can be deleted if the number of missing values is insignificant, as this would not impact the overall analysis results. Columns can be removed if the missing values are quite significant in number.\n",
        "- **Fill partial missing values using business judgement**: Such values include missing time zone, century, etc. These values can be identified easily.\n",
        "\n",
        "Types of missing values:\n",
        "- **MCAR**: It stands for Missing completely at random (the reason behind the missing value is not dependent on any other feature).\n",
        "- **MAR**: It stands for Missing at random (the reason behind the missing value may be associated with some other features).\n",
        "- **MNAR**: It stands for Missing not at random (there is a specific reason behind the missing value).\n"
      ]
    },
    {
      "cell_type": "markdown",
      "metadata": {
        "id": "eqjhy-EIFWEQ"
      },
      "source": [
        "#### handling missing values in age column."
      ]
    },
    {
      "cell_type": "code",
      "metadata": {
        "id": "R-OiieyPFWER",
        "colab": {
          "base_uri": "https://localhost:8080/"
        },
        "outputId": "bfc7fe18-edbc-4c78-d034-bdeec1fdb71f"
      },
      "source": [
        "#count the missing values in age column.\n",
        "inp0.age.isnull().sum()"
      ],
      "execution_count": null,
      "outputs": [
        {
          "output_type": "execute_result",
          "data": {
            "text/plain": [
              "20"
            ]
          },
          "metadata": {
            "tags": []
          },
          "execution_count": 427
        }
      ]
    },
    {
      "cell_type": "code",
      "metadata": {
        "id": "GsauHMbgFWER",
        "colab": {
          "base_uri": "https://localhost:8080/"
        },
        "outputId": "77bdaa16-7c93-4c89-a6b1-57f0b37bfa71"
      },
      "source": [
        "#pring the shape of dataframe inp0\n",
        "inp0.shape"
      ],
      "execution_count": null,
      "outputs": [
        {
          "output_type": "execute_result",
          "data": {
            "text/plain": [
              "(45211, 19)"
            ]
          },
          "metadata": {
            "tags": []
          },
          "execution_count": 428
        }
      ]
    },
    {
      "cell_type": "code",
      "metadata": {
        "id": "AU0OSG98FWES",
        "colab": {
          "base_uri": "https://localhost:8080/"
        },
        "outputId": "2ceb255b-6f3d-4c44-a642-a07ce8e0b28f"
      },
      "source": [
        "#calculate the percentage of missing values in age column.\n",
        "float(100.0*20/45211)"
      ],
      "execution_count": null,
      "outputs": [
        {
          "output_type": "execute_result",
          "data": {
            "text/plain": [
              "0.04423702196368141"
            ]
          },
          "metadata": {
            "tags": []
          },
          "execution_count": 429
        }
      ]
    },
    {
      "cell_type": "markdown",
      "metadata": {
        "id": "sOTJ9o_gFWES"
      },
      "source": [
        "Drop the records with age missing. "
      ]
    },
    {
      "cell_type": "code",
      "metadata": {
        "id": "uup2WPVEFWET"
      },
      "source": [
        "#drop the records with age missing in inp0 and copy in inp1 dataframe.\n",
        "inp1 = inp0[-inp0.age.isnull()].copy()\n"
      ],
      "execution_count": null,
      "outputs": []
    },
    {
      "cell_type": "markdown",
      "metadata": {
        "id": "K6SVsfzhFWET"
      },
      "source": [
        "#### handling missing values in month column"
      ]
    },
    {
      "cell_type": "code",
      "metadata": {
        "id": "UoT-LXQJFWET",
        "colab": {
          "base_uri": "https://localhost:8080/"
        },
        "outputId": "b567a30c-bb5e-43fc-c910-0edf99735a2e"
      },
      "source": [
        "#count the missing values in month column in inp1.\n",
        "inp1.month.isnull().sum()"
      ],
      "execution_count": null,
      "outputs": [
        {
          "output_type": "execute_result",
          "data": {
            "text/plain": [
              "50"
            ]
          },
          "metadata": {
            "tags": []
          },
          "execution_count": 431
        }
      ]
    },
    {
      "cell_type": "code",
      "metadata": {
        "id": "l4hK7zlBFWEU",
        "colab": {
          "base_uri": "https://localhost:8080/"
        },
        "outputId": "4cc823a5-0464-4a75-eea8-e116036dea12"
      },
      "source": [
        "#print the percentage of each month in the data frame inp1.\n",
        "inp1.month.value_counts(normalize=True)"
      ],
      "execution_count": null,
      "outputs": [
        {
          "output_type": "execute_result",
          "data": {
            "text/plain": [
              "may, 2017    0.304380\n",
              "jul, 2017    0.152522\n",
              "aug, 2017    0.138123\n",
              "jun, 2017    0.118141\n",
              "nov, 2017    0.087880\n",
              "apr, 2017    0.064908\n",
              "feb, 2017    0.058616\n",
              "jan, 2017    0.031058\n",
              "oct, 2017    0.016327\n",
              "sep, 2017    0.012760\n",
              "mar, 2017    0.010545\n",
              "dec, 2017    0.004741\n",
              "Name: month, dtype: float64"
            ]
          },
          "metadata": {
            "tags": []
          },
          "execution_count": 432
        }
      ]
    },
    {
      "cell_type": "code",
      "metadata": {
        "id": "oN5eNrAFFWEU",
        "colab": {
          "base_uri": "https://localhost:8080/",
          "height": 35
        },
        "outputId": "b8099287-65f0-42e2-b54a-f19f87eb19e5"
      },
      "source": [
        "#find the mode of month in inp1\n",
        "month_mode = inp1.month.mode()[0]\n",
        "month_mode"
      ],
      "execution_count": null,
      "outputs": [
        {
          "output_type": "execute_result",
          "data": {
            "application/vnd.google.colaboratory.intrinsic+json": {
              "type": "string"
            },
            "text/plain": [
              "'may, 2017'"
            ]
          },
          "metadata": {
            "tags": []
          },
          "execution_count": 433
        }
      ]
    },
    {
      "cell_type": "code",
      "metadata": {
        "id": "r7jscjQbFWEU",
        "colab": {
          "base_uri": "https://localhost:8080/"
        },
        "outputId": "43c528b9-f64e-4395-c6e8-d542af72463d"
      },
      "source": [
        "# fill the missing values with mode value of month in inp1.\n",
        "inp1.month.fillna(month_mode, inplace=True)\n",
        "inp1.month.value_counts(normalize=True)\n"
      ],
      "execution_count": null,
      "outputs": [
        {
          "output_type": "execute_result",
          "data": {
            "text/plain": [
              "may, 2017    0.305149\n",
              "jul, 2017    0.152353\n",
              "aug, 2017    0.137970\n",
              "jun, 2017    0.118010\n",
              "nov, 2017    0.087783\n",
              "apr, 2017    0.064836\n",
              "feb, 2017    0.058551\n",
              "jan, 2017    0.031024\n",
              "oct, 2017    0.016309\n",
              "sep, 2017    0.012746\n",
              "mar, 2017    0.010533\n",
              "dec, 2017    0.004735\n",
              "Name: month, dtype: float64"
            ]
          },
          "metadata": {
            "tags": []
          },
          "execution_count": 434
        }
      ]
    },
    {
      "cell_type": "code",
      "metadata": {
        "id": "PzuJFr6kFWEV",
        "colab": {
          "base_uri": "https://localhost:8080/"
        },
        "outputId": "61161f0a-805a-482c-9345-7c6576101897"
      },
      "source": [
        "#let's see the null values in the month column.\n",
        "inp1.month.isnull().sum()"
      ],
      "execution_count": null,
      "outputs": [
        {
          "output_type": "execute_result",
          "data": {
            "text/plain": [
              "0"
            ]
          },
          "metadata": {
            "tags": []
          },
          "execution_count": 435
        }
      ]
    },
    {
      "cell_type": "markdown",
      "metadata": {
        "id": "GhPzGACfFWEV"
      },
      "source": [
        "#### handling missing values in response column "
      ]
    },
    {
      "cell_type": "code",
      "metadata": {
        "id": "-0S6xwaVFWEW",
        "colab": {
          "base_uri": "https://localhost:8080/"
        },
        "outputId": "7f0f3194-1ffb-4928-fd07-f221a45feb49"
      },
      "source": [
        "#count the missing values in response column in inp1.\n",
        "inp1.response.isnull().sum()"
      ],
      "execution_count": null,
      "outputs": [
        {
          "output_type": "execute_result",
          "data": {
            "text/plain": [
              "30"
            ]
          },
          "metadata": {
            "tags": []
          },
          "execution_count": 436
        }
      ]
    },
    {
      "cell_type": "code",
      "metadata": {
        "id": "Ykv_ptz6FWEW",
        "colab": {
          "base_uri": "https://localhost:8080/"
        },
        "outputId": "f86b13d1-9fea-4328-cfba-488af5493a04"
      },
      "source": [
        "#calculate the percentage of missing values in response column. \n",
        "float(100*30/45191)"
      ],
      "execution_count": null,
      "outputs": [
        {
          "output_type": "execute_result",
          "data": {
            "text/plain": [
              "0.06638489964816004"
            ]
          },
          "metadata": {
            "tags": []
          },
          "execution_count": 437
        }
      ]
    },
    {
      "cell_type": "markdown",
      "metadata": {
        "id": "JipTKtIQFWEY"
      },
      "source": [
        "Target variable is better of not imputed.\n",
        "- Drop the records with missing values."
      ]
    },
    {
      "cell_type": "code",
      "metadata": {
        "id": "QhUuY4-aFWEZ",
        "colab": {
          "base_uri": "https://localhost:8080/"
        },
        "outputId": "2ec3e954-3a61-474b-f0c4-5d3bdaa053f6"
      },
      "source": [
        "#drop the records with response missings in inp1.\n",
        "inp1.dropna(inplace=True)\n",
        "inp1.shape"
      ],
      "execution_count": null,
      "outputs": [
        {
          "output_type": "execute_result",
          "data": {
            "text/plain": [
              "(45161, 19)"
            ]
          },
          "metadata": {
            "tags": []
          },
          "execution_count": 438
        }
      ]
    },
    {
      "cell_type": "code",
      "metadata": {
        "id": "gg5kcA3nFWEZ",
        "colab": {
          "base_uri": "https://localhost:8080/"
        },
        "outputId": "a6f81a01-b5d8-4740-bf18-d530cd8c699e"
      },
      "source": [
        "#calculate the missing values in each column of data frame: inp1.\n",
        "inp1.isnull().sum()"
      ],
      "execution_count": null,
      "outputs": [
        {
          "output_type": "execute_result",
          "data": {
            "text/plain": [
              "age          0\n",
              "salary       0\n",
              "balance      0\n",
              "marital      0\n",
              "targeted     0\n",
              "default      0\n",
              "housing      0\n",
              "loan         0\n",
              "contact      0\n",
              "day          0\n",
              "month        0\n",
              "duration     0\n",
              "campaign     0\n",
              "pdays        0\n",
              "previous     0\n",
              "poutcome     0\n",
              "response     0\n",
              "job          0\n",
              "education    0\n",
              "dtype: int64"
            ]
          },
          "metadata": {
            "tags": []
          },
          "execution_count": 439
        }
      ]
    },
    {
      "cell_type": "markdown",
      "metadata": {
        "id": "bhPbbqN0FWEZ"
      },
      "source": [
        "#### handling pdays column. "
      ]
    },
    {
      "cell_type": "code",
      "metadata": {
        "id": "Y3OB_x1XFWEa",
        "colab": {
          "base_uri": "https://localhost:8080/"
        },
        "outputId": "daeddaa2-0bfd-439c-e20e-226aa410ee62"
      },
      "source": [
        "#describe the pdays column of inp1.\n",
        "inp1.pdays.describe()"
      ],
      "execution_count": null,
      "outputs": [
        {
          "output_type": "execute_result",
          "data": {
            "text/plain": [
              "count    45161.000000\n",
              "mean        40.182015\n",
              "std        100.079372\n",
              "min         -1.000000\n",
              "25%         -1.000000\n",
              "50%         -1.000000\n",
              "75%         -1.000000\n",
              "max        871.000000\n",
              "Name: pdays, dtype: float64"
            ]
          },
          "metadata": {
            "tags": []
          },
          "execution_count": 440
        }
      ]
    },
    {
      "cell_type": "markdown",
      "metadata": {
        "id": "JZCbgttAFWEe"
      },
      "source": [
        "-1 indicates the missing values.\n",
        "Missing value does not always be present as null.\n",
        "How to handle it:\n",
        "\n",
        "Objective is:\n",
        "- you should ignore the missing values in the calculations\n",
        "- simply make it missing - replace -1 with NaN.\n",
        "- all summary statistics- mean, median etc. we will ignore the missing values of pdays."
      ]
    },
    {
      "cell_type": "code",
      "metadata": {
        "id": "YLALm_oJFWEf",
        "colab": {
          "base_uri": "https://localhost:8080/"
        },
        "outputId": "158e3473-030e-4d76-af7c-8c15dd11d79c"
      },
      "source": [
        "#describe the pdays column with considering the -1 values.\n",
        "inp1.loc[inp1.pdays<0, \"pdays\"] = np.NaN\n",
        "inp1.pdays.describe()"
      ],
      "execution_count": null,
      "outputs": [
        {
          "output_type": "execute_result",
          "data": {
            "text/plain": [
              "count    8246.000000\n",
              "mean      224.542202\n",
              "std       115.210792\n",
              "min         1.000000\n",
              "25%       133.000000\n",
              "50%       195.000000\n",
              "75%       327.000000\n",
              "max       871.000000\n",
              "Name: pdays, dtype: float64"
            ]
          },
          "metadata": {
            "tags": []
          },
          "execution_count": 441
        }
      ]
    },
    {
      "cell_type": "markdown",
      "metadata": {
        "id": "IemO1MObFWEf"
      },
      "source": [
        "### Segment- 5, Handling Outliers "
      ]
    },
    {
      "cell_type": "markdown",
      "metadata": {
        "id": "R_mgTX8KFWEg"
      },
      "source": [
        "Major approaches to the treat outliers:\n",
        " \t\t\n",
        "- **Imputation**\n",
        "- **Deletion of outliers**\n",
        "- **Binning of values**\n",
        "- **Cap the outlier**\n"
      ]
    },
    {
      "cell_type": "markdown",
      "metadata": {
        "id": "dp1EzRDLFWEg"
      },
      "source": [
        "#### Age variable "
      ]
    },
    {
      "cell_type": "code",
      "metadata": {
        "id": "nNsIdLfwFWEh",
        "colab": {
          "base_uri": "https://localhost:8080/"
        },
        "outputId": "2070b1bf-a23f-421d-ae95-cde091228731"
      },
      "source": [
        "#describe the age variable in inp1.\n",
        "inp1.age.describe()"
      ],
      "execution_count": null,
      "outputs": [
        {
          "output_type": "execute_result",
          "data": {
            "text/plain": [
              "count    45161.000000\n",
              "mean        40.935763\n",
              "std         10.618790\n",
              "min         18.000000\n",
              "25%         33.000000\n",
              "50%         39.000000\n",
              "75%         48.000000\n",
              "max         95.000000\n",
              "Name: age, dtype: float64"
            ]
          },
          "metadata": {
            "tags": []
          },
          "execution_count": 442
        }
      ]
    },
    {
      "cell_type": "code",
      "metadata": {
        "id": "8A0fdn-pFWEh",
        "colab": {
          "base_uri": "https://localhost:8080/",
          "height": 265
        },
        "outputId": "a52c7a0e-1ffa-49c5-8015-dd5b4f7bf3be"
      },
      "source": [
        "#plot the histogram of age variable.\n",
        "inp1.age.plot.hist()\n",
        "plt.show()\n"
      ],
      "execution_count": null,
      "outputs": [
        {
          "output_type": "display_data",
          "data": {
            "image/png": "[encoded data removed]",
            "text/plain": [
              "<Figure size 432x288 with 1 Axes>"
            ]
          },
          "metadata": {
            "tags": [],
            "needs_background": "light"
          }
        }
      ]
    },
    {
      "cell_type": "code",
      "metadata": {
        "id": "1bIL2tQmFWEi",
        "colab": {
          "base_uri": "https://localhost:8080/",
          "height": 334
        },
        "outputId": "b9ac5cf0-d820-4fde-9541-0c495f844625"
      },
      "source": [
        "#plot the boxplot of age variable.\n",
        "sns.boxplot(inp1.age)\n",
        "plt.show()"
      ],
      "execution_count": null,
      "outputs": [
        {
          "output_type": "stream",
          "text": [
            "/usr/local/lib/python3.6/dist-packages/seaborn/_decorators.py:43: FutureWarning: Pass the following variable as a keyword arg: x. From version 0.12, the only valid positional argument will be `data`, and passing other arguments without an explicit keyword will result in an error or misinterpretation.\n",
            "  FutureWarning\n"
          ],
          "name": "stderr"
        },
        {
          "output_type": "display_data",
          "data": {
            "image/png": "[encoded data removed]",
            "text/plain": [
              "<Figure size 432x288 with 1 Axes>"
            ]
          },
          "metadata": {
            "tags": [],
            "needs_background": "light"
          }
        }
      ]
    },
    {
      "cell_type": "markdown",
      "metadata": {
        "id": "nzPYkmgyFWEi"
      },
      "source": [
        "#### Salary variable "
      ]
    },
    {
      "cell_type": "code",
      "metadata": {
        "id": "ds0ai9B3FWEi",
        "colab": {
          "base_uri": "https://localhost:8080/"
        },
        "outputId": "164301d7-e2b5-4243-df8c-67d50d379c27"
      },
      "source": [
        "#describe the salary variable of inp1.\n",
        "inp1.salary.describe()"
      ],
      "execution_count": null,
      "outputs": [
        {
          "output_type": "execute_result",
          "data": {
            "text/plain": [
              "count     45161.000000\n",
              "mean      57004.849317\n",
              "std       32087.698810\n",
              "min           0.000000\n",
              "25%       20000.000000\n",
              "50%       60000.000000\n",
              "75%       70000.000000\n",
              "max      120000.000000\n",
              "Name: salary, dtype: float64"
            ]
          },
          "metadata": {
            "tags": []
          },
          "execution_count": 445
        }
      ]
    },
    {
      "cell_type": "code",
      "metadata": {
        "id": "Pe9Doe7kFWEj",
        "colab": {
          "base_uri": "https://localhost:8080/",
          "height": 334
        },
        "outputId": "ed7d4017-aa91-49fa-cd87-65281f7402ff"
      },
      "source": [
        "#plot the boxplot of salary variable.\n",
        "sns.boxplot(inp1.salary)\n",
        "plt.show()"
      ],
      "execution_count": null,
      "outputs": [
        {
          "output_type": "stream",
          "text": [
            "/usr/local/lib/python3.6/dist-packages/seaborn/_decorators.py:43: FutureWarning: Pass the following variable as a keyword arg: x. From version 0.12, the only valid positional argument will be `data`, and passing other arguments without an explicit keyword will result in an error or misinterpretation.\n",
            "  FutureWarning\n"
          ],
          "name": "stderr"
        },
        {
          "output_type": "display_data",
          "data": {
            "image/png": "[encoded data removed]",
            "text/plain": [
              "<Figure size 432x288 with 1 Axes>"
            ]
          },
          "metadata": {
            "tags": [],
            "needs_background": "light"
          }
        }
      ]
    },
    {
      "cell_type": "markdown",
      "metadata": {
        "id": "DoszdjnUFWEj"
      },
      "source": [
        "#### Balance variable "
      ]
    },
    {
      "cell_type": "code",
      "metadata": {
        "id": "fz7vZLOBFWEk",
        "colab": {
          "base_uri": "https://localhost:8080/"
        },
        "outputId": "82a59e33-df77-4ecf-9393-f73b59559d1f"
      },
      "source": [
        "#describe the balance variable of inp1.\n",
        "inp1.balance.describe()"
      ],
      "execution_count": null,
      "outputs": [
        {
          "output_type": "execute_result",
          "data": {
            "text/plain": [
              "count     45161.000000\n",
              "mean       1362.850690\n",
              "std        3045.939589\n",
              "min       -8019.000000\n",
              "25%          72.000000\n",
              "50%         448.000000\n",
              "75%        1428.000000\n",
              "max      102127.000000\n",
              "Name: balance, dtype: float64"
            ]
          },
          "metadata": {
            "tags": []
          },
          "execution_count": 447
        }
      ]
    },
    {
      "cell_type": "code",
      "metadata": {
        "id": "K_XHayy_FWEl",
        "colab": {
          "base_uri": "https://localhost:8080/",
          "height": 226
        },
        "outputId": "b3d61987-0c5e-4639-8ff4-427ab47a89ee"
      },
      "source": [
        "#plot the boxplot of balance variable.\n",
        "plt.figure(figsize=[8,2])\n",
        "sns.boxplot(inp1.balance)\n",
        "plt.show()"
      ],
      "execution_count": null,
      "outputs": [
        {
          "output_type": "stream",
          "text": [
            "/usr/local/lib/python3.6/dist-packages/seaborn/_decorators.py:43: FutureWarning: Pass the following variable as a keyword arg: x. From version 0.12, the only valid positional argument will be `data`, and passing other arguments without an explicit keyword will result in an error or misinterpretation.\n",
            "  FutureWarning\n"
          ],
          "name": "stderr"
        },
        {
          "output_type": "display_data",
          "data": {
            "image/png": "[encoded data removed]",
            "text/plain": [
              "<Figure size 576x144 with 1 Axes>"
            ]
          },
          "metadata": {
            "tags": [],
            "needs_background": "light"
          }
        }
      ]
    },
    {
      "cell_type": "code",
      "metadata": {
        "id": "EAU6hT3wFWEl"
      },
      "source": [
        "#plot the boxplot of balance variable after scaling in 8:2.\n"
      ],
      "execution_count": null,
      "outputs": []
    },
    {
      "cell_type": "code",
      "metadata": {
        "id": "Ghmrc3ieFWEm",
        "colab": {
          "base_uri": "https://localhost:8080/"
        },
        "outputId": "8947d68a-8c7a-413a-d3db-ed666e99d4f3"
      },
      "source": [
        "#print the quantile (0.5, 0.7, 0.9, 0.95 and 0.99) of balance variable\n",
        "inp1.balance.quantile([0.5,0.7,0.9,0.95,0.99])\n"
      ],
      "execution_count": null,
      "outputs": [
        {
          "output_type": "execute_result",
          "data": {
            "text/plain": [
              "0.50      448.0\n",
              "0.70     1126.0\n",
              "0.90     3576.0\n",
              "0.95     5769.0\n",
              "0.99    13173.4\n",
              "Name: balance, dtype: float64"
            ]
          },
          "metadata": {
            "tags": []
          },
          "execution_count": 450
        }
      ]
    },
    {
      "cell_type": "markdown",
      "metadata": {
        "id": "zxGFH06yFWEn"
      },
      "source": [
        "### Segment- 6, Standardising values "
      ]
    },
    {
      "cell_type": "markdown",
      "metadata": {
        "id": "9HJoZWCEFWEo"
      },
      "source": [
        "Checklist for data standardization exercises:\n",
        "- **Standardise units**: Ensure all observations under one variable are expressed in a common and consistent unit, e.g., convert lbs to kg, miles/hr to km/hr, etc.\n",
        "- **Scale values if required**: Make sure all the observations under one variable have a common scale.\n",
        "- **Standardise precision** for better presentation of data, e.g., change 4.5312341 kg to 4.53 kg.\n",
        "- **Remove extra characters** such as common prefixes/suffixes, leading/trailing/multiple spaces, etc. These are irrelevant to analysis.\n",
        "- **Standardise case**: String variables may take various casing styles, e.g., UPPERCASE, lowercase, Title Case, Sentence case, etc.\n",
        "- **Standardise format**: It is important to standardise the format of other elements such as date, name, etce.g., change 23/10/16 to 2016/10/23, “Modi, Narendra” to “Narendra Modi\", etc."
      ]
    },
    {
      "cell_type": "markdown",
      "metadata": {
        "id": "ALuPI8dFFWEq"
      },
      "source": [
        "#### Duration variable"
      ]
    },
    {
      "cell_type": "code",
      "metadata": {
        "id": "-AE1X4RRFWE1",
        "colab": {
          "base_uri": "https://localhost:8080/"
        },
        "outputId": "c9704cf5-9038-4d30-f0d5-676c409532cc"
      },
      "source": [
        "#describe the duration variable of inp1\n",
        "inp1.duration.describe()"
      ],
      "execution_count": null,
      "outputs": [
        {
          "output_type": "execute_result",
          "data": {
            "text/plain": [
              "count       45161\n",
              "unique       2646\n",
              "top       1.5 min\n",
              "freq          138\n",
              "Name: duration, dtype: object"
            ]
          },
          "metadata": {
            "tags": []
          },
          "execution_count": 451
        }
      ]
    },
    {
      "cell_type": "code",
      "metadata": {
        "id": "4u0fMopWFWE1"
      },
      "source": [
        "#convert the duration variable into single unit i.e. minutes. and remove the sec or min prefix.\n",
        "inp1.duration = inp1.duration[:5].apply(lambda x: float(x.split()[0]) if x.find(\"sec\")>0 else float(x.split()[0]) )"
      ],
      "execution_count": null,
      "outputs": []
    },
    {
      "cell_type": "code",
      "metadata": {
        "id": "-m-ba9mjFWE1",
        "colab": {
          "base_uri": "https://localhost:8080/"
        },
        "outputId": "5c2cedff-6605-4aa5-9771-8b3f6552d1b5"
      },
      "source": [
        "#describe the duration variable\n",
        "inp1.duration.describe()"
      ],
      "execution_count": null,
      "outputs": [
        {
          "output_type": "execute_result",
          "data": {
            "text/plain": [
              "count      5.000000\n",
              "mean     155.600000\n",
              "std       76.336754\n",
              "min       76.000000\n",
              "25%       92.000000\n",
              "50%      151.000000\n",
              "75%      198.000000\n",
              "max      261.000000\n",
              "Name: duration, dtype: float64"
            ]
          },
          "metadata": {
            "tags": []
          },
          "execution_count": 493
        }
      ]
    },
    {
      "cell_type": "markdown",
      "metadata": {
        "id": "duhOY7GKFWE2"
      },
      "source": [
        "## Session- 3, Univariate Analysis "
      ]
    },
    {
      "cell_type": "markdown",
      "metadata": {
        "id": "_K_K_j5WFWE2"
      },
      "source": [
        "### Segment- 2, Categorical unordered univariate analysis "
      ]
    },
    {
      "cell_type": "markdown",
      "metadata": {
        "id": "J4YGrxedFWE2"
      },
      "source": [
        "Unordered data do not have the notion of high-low, more-less etc. Example:\n",
        "- Type of loan taken by a person = home, personal, auto etc.\n",
        "- Organisation of a person = Sales, marketing, HR etc.\n",
        "- Job category of persone.\n",
        "- Marital status of any one.\n"
      ]
    },
    {
      "cell_type": "markdown",
      "metadata": {
        "id": "J7PTh_LBFWE3"
      },
      "source": [
        "#### Marital status "
      ]
    },
    {
      "cell_type": "code",
      "metadata": {
        "id": "m5BarP7tFWE3",
        "colab": {
          "base_uri": "https://localhost:8080/"
        },
        "outputId": "0df852dc-96cb-4c5c-cb2f-ac5a68a2c45a"
      },
      "source": [
        "#calculate the percentage of each marital status category. \n",
        "inp1.marital.value_counts(normalize= True)"
      ],
      "execution_count": null,
      "outputs": [
        {
          "output_type": "execute_result",
          "data": {
            "text/plain": [
              "married     0.601957\n",
              "single      0.282943\n",
              "divorced    0.115099\n",
              "Name: marital, dtype: float64"
            ]
          },
          "metadata": {
            "tags": []
          },
          "execution_count": 494
        }
      ]
    },
    {
      "cell_type": "code",
      "metadata": {
        "id": "1SF7XEEZFWE3",
        "colab": {
          "base_uri": "https://localhost:8080/",
          "height": 265
        },
        "outputId": "9ed71b00-cfce-49b1-ca65-ace5dc54db18"
      },
      "source": [
        "#plot the bar graph of percentage marital status categories\n",
        "inp1.marital.value_counts(normalize= True).plot.barh()\n",
        "plt.show()"
      ],
      "execution_count": null,
      "outputs": [
        {
          "output_type": "display_data",
          "data": {
            "image/png": "[encoded data removed]",
            "text/plain": [
              "<Figure size 432x288 with 1 Axes>"
            ]
          },
          "metadata": {
            "tags": [],
            "needs_background": "light"
          }
        }
      ]
    },
    {
      "cell_type": "markdown",
      "metadata": {
        "id": "ZhFbd_25FWE4"
      },
      "source": [
        "#### Job  "
      ]
    },
    {
      "cell_type": "code",
      "metadata": {
        "id": "dAw6T7MUFWE4",
        "colab": {
          "base_uri": "https://localhost:8080/"
        },
        "outputId": "8dc308f3-4566-4d3b-b9ed-9411649f3397"
      },
      "source": [
        "#calculate the percentage of each job status category.\n",
        "inp1.job.value_counts(normalize=True)"
      ],
      "execution_count": null,
      "outputs": [
        {
          "output_type": "execute_result",
          "data": {
            "text/plain": [
              "blue-collar      0.215274\n",
              "management       0.209273\n",
              "technician       0.168043\n",
              "admin.           0.114369\n",
              "services         0.091849\n",
              "retired          0.050087\n",
              "self-employed    0.034853\n",
              "entrepreneur     0.032860\n",
              "unemployed       0.028830\n",
              "housemaid        0.027413\n",
              "student          0.020770\n",
              "unknown          0.006377\n",
              "Name: job, dtype: float64"
            ]
          },
          "metadata": {
            "tags": []
          },
          "execution_count": 496
        }
      ]
    },
    {
      "cell_type": "code",
      "metadata": {
        "id": "6pxy-wL7FWE4",
        "colab": {
          "base_uri": "https://localhost:8080/",
          "height": 265
        },
        "outputId": "5ac1b5d6-c02d-4942-954c-794d99c918e9"
      },
      "source": [
        "#plot the bar graph of percentage job categories\n",
        "inp1.job.value_counts(normalize=True).plot.barh()\n",
        "plt.show()"
      ],
      "execution_count": null,
      "outputs": [
        {
          "output_type": "display_data",
          "data": {
            "image/png": "[encoded data removed]",
            "text/plain": [
              "<Figure size 432x288 with 1 Axes>"
            ]
          },
          "metadata": {
            "tags": [],
            "needs_background": "light"
          }
        }
      ]
    },
    {
      "cell_type": "markdown",
      "metadata": {
        "id": "emljb2sdFWE5"
      },
      "source": [
        "### Segment- 3, Categorical ordered univariate analysis "
      ]
    },
    {
      "cell_type": "markdown",
      "metadata": {
        "id": "oYlKJWqAFWE5"
      },
      "source": [
        "Ordered variables have some kind of ordering. Some examples of bank marketing dataset are:\n",
        "- Age group= <30, 30-40, 40-50 and so on.\n",
        "- Month = Jan-Feb-Mar etc.\n",
        "- Education = primary, secondary and so on."
      ]
    },
    {
      "cell_type": "markdown",
      "metadata": {
        "id": "4xQMsPeKFWE5"
      },
      "source": [
        "#### Education"
      ]
    },
    {
      "cell_type": "code",
      "metadata": {
        "id": "i_GCLW7kFWE5",
        "colab": {
          "base_uri": "https://localhost:8080/"
        },
        "outputId": "2903e618-4e48-4db6-c97a-a23d08df3a68"
      },
      "source": [
        "#calculate the percentage of each education category.\n",
        "inp1.education.value_counts(normalize = True)"
      ],
      "execution_count": null,
      "outputs": [
        {
          "output_type": "execute_result",
          "data": {
            "text/plain": [
              "secondary    0.513275\n",
              "tertiary     0.294192\n",
              "primary      0.151436\n",
              "unknown      0.041097\n",
              "Name: education, dtype: float64"
            ]
          },
          "metadata": {
            "tags": []
          },
          "execution_count": 498
        }
      ]
    },
    {
      "cell_type": "code",
      "metadata": {
        "id": "YT65Xq0TFWE6",
        "colab": {
          "base_uri": "https://localhost:8080/",
          "height": 248
        },
        "outputId": "986c825a-82dc-4a2c-c12a-52f29cf9b1a9"
      },
      "source": [
        "#plot the pie chart of education categories\n",
        "inp1.education.value_counts(normalize = True).plot.pie()\n",
        "plt.show()"
      ],
      "execution_count": null,
      "outputs": [
        {
          "output_type": "display_data",
          "data": {
            "image/png": "[encoded data removed]",
            "text/plain": [
              "<Figure size 432x288 with 1 Axes>"
            ]
          },
          "metadata": {
            "tags": []
          }
        }
      ]
    },
    {
      "cell_type": "markdown",
      "metadata": {
        "id": "6L6-ojw2FWE6"
      },
      "source": [
        "#### poutcome "
      ]
    },
    {
      "cell_type": "code",
      "metadata": {
        "id": "TQnXhwPpFWE6",
        "colab": {
          "base_uri": "https://localhost:8080/"
        },
        "outputId": "84cd174f-6ba2-44dc-8aec-2c29f0e71b29"
      },
      "source": [
        "#calculate the percentage of each poutcome category.\n",
        "inp1.poutcome.value_counts(normalize=True)"
      ],
      "execution_count": null,
      "outputs": [
        {
          "output_type": "execute_result",
          "data": {
            "text/plain": [
              "unknown    0.817520\n",
              "failure    0.108368\n",
              "other      0.040721\n",
              "success    0.033392\n",
              "Name: poutcome, dtype: float64"
            ]
          },
          "metadata": {
            "tags": []
          },
          "execution_count": 500
        }
      ]
    },
    {
      "cell_type": "markdown",
      "metadata": {
        "id": "04i82wfYFWE6"
      },
      "source": [
        "#### Response the target variable "
      ]
    },
    {
      "cell_type": "code",
      "metadata": {
        "id": "klQoEmihFWE6",
        "colab": {
          "base_uri": "https://localhost:8080/"
        },
        "outputId": "73feb939-2837-4e7c-8b26-5165928f5a07"
      },
      "source": [
        "#calculate the percentage of each response category.\n",
        "inp1.response.value_counts(normalize=True)"
      ],
      "execution_count": null,
      "outputs": [
        {
          "output_type": "execute_result",
          "data": {
            "text/plain": [
              "no     0.882974\n",
              "yes    0.117026\n",
              "Name: response, dtype: float64"
            ]
          },
          "metadata": {
            "tags": []
          },
          "execution_count": 501
        }
      ]
    },
    {
      "cell_type": "code",
      "metadata": {
        "id": "dV4sHjX4FWE7",
        "colab": {
          "base_uri": "https://localhost:8080/",
          "height": 248
        },
        "outputId": "7f8ce018-3be0-407a-c122-4bd211a4dce9"
      },
      "source": [
        "#plot the pie chart of response categories\n",
        "inp1.response.value_counts(normalize=True).plot.pie()\n",
        "plt.show()"
      ],
      "execution_count": null,
      "outputs": [
        {
          "output_type": "display_data",
          "data": {
            "image/png": "[encoded data removed]",
            "text/plain": [
              "<Figure size 432x288 with 1 Axes>"
            ]
          },
          "metadata": {
            "tags": []
          }
        }
      ]
    },
    {
      "cell_type": "markdown",
      "metadata": {
        "id": "Q7xtxw27FWE7"
      },
      "source": [
        "## Session- 4, Bivariate and Multivariate Analysis"
      ]
    },
    {
      "cell_type": "markdown",
      "metadata": {
        "id": "8ZWFLa1QFWE7"
      },
      "source": [
        "### Segment-2, Numeric- numeric analysis "
      ]
    },
    {
      "cell_type": "markdown",
      "metadata": {
        "id": "wCGa4NY0FWE7"
      },
      "source": [
        "There are three ways to analyse the numeric- numeric data types simultaneously.\n",
        "- **Scatter plot**: describes the pattern that how one variable is varying with other variable.\n",
        "- **Correlation matrix**: to describe the linearity of two numeric variables.\n",
        "- **Pair plot**: group of scatter plots of all numeric variables in the data frame."
      ]
    },
    {
      "cell_type": "code",
      "metadata": {
        "id": "eDpZcokMFWE8",
        "colab": {
          "base_uri": "https://localhost:8080/",
          "height": 265
        },
        "outputId": "c891b5c9-4ff8-4dab-c5c0-ef2512515d29"
      },
      "source": [
        "#plot the scatter plot of balance and salary variable in inp1\n",
        "plt.scatter(inp1.salary, inp1.balance)\n",
        "plt.show()"
      ],
      "execution_count": null,
      "outputs": [
        {
          "output_type": "display_data",
          "data": {
            "image/png": "[encoded data removed]",
            "text/plain": [
              "<Figure size 432x288 with 1 Axes>"
            ]
          },
          "metadata": {
            "tags": [],
            "needs_background": "light"
          }
        }
      ]
    },
    {
      "cell_type": "code",
      "metadata": {
        "id": "k7mCR1mrFWE8",
        "colab": {
          "base_uri": "https://localhost:8080/",
          "height": 279
        },
        "outputId": "49edfc1f-ec5f-444c-fcf9-c26fa88c9143"
      },
      "source": [
        "#plot the scatter plot of balance and age variable in inp1\n",
        "inp1.plot.scatter(x ='age', y= 'balance')\n",
        "plt.show()"
      ],
      "execution_count": null,
      "outputs": [
        {
          "output_type": "display_data",
          "data": {
            "image/png": "[encoded data removed]",
            "text/plain": [
              "<Figure size 432x288 with 1 Axes>"
            ]
          },
          "metadata": {
            "tags": [],
            "needs_background": "light"
          }
        }
      ]
    },
    {
      "cell_type": "code",
      "metadata": {
        "id": "AlamqQZ5FWE8",
        "colab": {
          "base_uri": "https://localhost:8080/",
          "height": 550
        },
        "outputId": "537249c8-e30d-46c8-c06f-40b9db6f4940"
      },
      "source": [
        "#plot the pair plot of salary, balance and age in inp1 dataframe.\n",
        "sns.pairplot(data=inp1, vars=[\"salary\",\"balance\",\"age\"])\n",
        "plt.show()"
      ],
      "execution_count": null,
      "outputs": [
        {
          "output_type": "display_data",
          "data": {
            "image/png": "[encoded data removed]",
            "text/plain": [
              "<Figure size 540x540 with 12 Axes>"
            ]
          },
          "metadata": {
            "tags": [],
            "needs_background": "light"
          }
        }
      ]
    },
    {
      "cell_type": "markdown",
      "metadata": {
        "id": "tT5nS0AcFWE9"
      },
      "source": [
        "#### Correlation heat map "
      ]
    },
    {
      "cell_type": "code",
      "metadata": {
        "id": "blYVfqFyFWE9",
        "colab": {
          "base_uri": "https://localhost:8080/",
          "height": 287
        },
        "outputId": "34aa4719-1325-4bc5-c3a0-f2d9b735c89e"
      },
      "source": [
        "#plot the correlation matrix of salary, balance and age in inp1 dataframe.\n",
        "inp1[[\"age\",\"salary\",\"balance\"]].corr()\n",
        "sns.heatmap(inp1[[\"age\",\"salary\",\"balance\"]].corr(),annot = True, cmap = \"Reds\")"
      ],
      "execution_count": null,
      "outputs": [
        {
          "output_type": "execute_result",
          "data": {
            "text/plain": [
              "<matplotlib.axes._subplots.AxesSubplot at 0x7f019ebadc18>"
            ]
          },
          "metadata": {
            "tags": []
          },
          "execution_count": 513
        },
        {
          "output_type": "display_data",
          "data": {
            "image/png": "[encoded data removed]",
            "text/plain": [
              "<Figure size 432x288 with 2 Axes>"
            ]
          },
          "metadata": {
            "tags": [],
            "needs_background": "light"
          }
        }
      ]
    },
    {
      "cell_type": "markdown",
      "metadata": {
        "id": "2DVo2EO-FWE-"
      },
      "source": [
        "### Segment- 4, Numerical categorical variable"
      ]
    },
    {
      "cell_type": "markdown",
      "metadata": {
        "id": "s02e67k3FWE-"
      },
      "source": [
        "#### Salary vs response "
      ]
    },
    {
      "cell_type": "code",
      "metadata": {
        "id": "YDKRPY-8FWE_",
        "colab": {
          "base_uri": "https://localhost:8080/"
        },
        "outputId": "753493dc-19ef-4525-9143-dca13e0f8daa"
      },
      "source": [
        "#groupby the response to find the mean of the salary with response no & yes seperatly.\n",
        "inp1.groupby(\"response\")[\"salary\"].mean()"
      ],
      "execution_count": null,
      "outputs": [
        {
          "output_type": "execute_result",
          "data": {
            "text/plain": [
              "response\n",
              "no     56769.510482\n",
              "yes    58780.510880\n",
              "Name: salary, dtype: float64"
            ]
          },
          "metadata": {
            "tags": []
          },
          "execution_count": 514
        }
      ]
    },
    {
      "cell_type": "code",
      "metadata": {
        "id": "ZwwYRq__FWE_",
        "colab": {
          "base_uri": "https://localhost:8080/"
        },
        "outputId": "d70ab31d-6276-450b-bae2-2c02cbbff524"
      },
      "source": [
        "#groupby the response to find the median of the salary with response no & yes seperatly.\n",
        "inp1.groupby(\"response\")[\"salary\"].median()"
      ],
      "execution_count": null,
      "outputs": [
        {
          "output_type": "execute_result",
          "data": {
            "text/plain": [
              "response\n",
              "no     60000\n",
              "yes    60000\n",
              "Name: salary, dtype: int64"
            ]
          },
          "metadata": {
            "tags": []
          },
          "execution_count": 515
        }
      ]
    },
    {
      "cell_type": "code",
      "metadata": {
        "id": "DQsVx_JtFWFA",
        "colab": {
          "base_uri": "https://localhost:8080/",
          "height": 279
        },
        "outputId": "491f5a5c-ce56-4331-af57-8b037c51a76d"
      },
      "source": [
        "#plot the box plot of salary for yes & no responses.\n",
        "sns.boxplot(data=inp1, x= \"response\", y= \"salary\")\n",
        "plt.show()"
      ],
      "execution_count": null,
      "outputs": [
        {
          "output_type": "display_data",
          "data": {
            "image/png": "[encoded data removed]",
            "text/plain": [
              "<Figure size 432x288 with 1 Axes>"
            ]
          },
          "metadata": {
            "tags": [],
            "needs_background": "light"
          }
        }
      ]
    },
    {
      "cell_type": "markdown",
      "metadata": {
        "id": "7jj6Q_YWFWFA"
      },
      "source": [
        "#### Balance vs response "
      ]
    },
    {
      "cell_type": "code",
      "metadata": {
        "id": "_CRom0wIFWFB",
        "colab": {
          "base_uri": "https://localhost:8080/",
          "height": 1000
        },
        "outputId": "784ffb58-9bf4-477f-ee5b-24c626ea6a74"
      },
      "source": [
        "#plot the box plot of balance for yes & no responses.\n",
        "plt.figure(figsize= [2,20])\n",
        "sns.boxplot(data=inp1, x= \"response\", y= \"balance\")\n",
        "plt.show()"
      ],
      "execution_count": null,
      "outputs": [
        {
          "output_type": "display_data",
          "data": {
            "image/png": "[encoded data removed]",
            "text/plain": [
              "<Figure size 144x1440 with 1 Axes>"
            ]
          },
          "metadata": {
            "tags": [],
            "needs_background": "light"
          }
        }
      ]
    },
    {
      "cell_type": "code",
      "metadata": {
        "id": "11rqhwfSFWFB",
        "colab": {
          "base_uri": "https://localhost:8080/"
        },
        "outputId": "867f7558-023a-4c22-8cb8-5f54e38ef3b1"
      },
      "source": [
        "#groupby the response to find the mean of the balance with response no & yes seperatly.\n",
        "inp1.groupby(\"response\")['balance'].mean()"
      ],
      "execution_count": null,
      "outputs": [
        {
          "output_type": "execute_result",
          "data": {
            "text/plain": [
              "response\n",
              "no     1304.292281\n",
              "yes    1804.681362\n",
              "Name: balance, dtype: float64"
            ]
          },
          "metadata": {
            "tags": []
          },
          "execution_count": 521
        }
      ]
    },
    {
      "cell_type": "code",
      "metadata": {
        "id": "ncbzYnggFWFC",
        "colab": {
          "base_uri": "https://localhost:8080/"
        },
        "outputId": "267c5d0c-ac7c-4920-e92f-c5b236719445"
      },
      "source": [
        "#groupby the response to find the median of the balance with response no & yes seperatly.\n",
        "inp1.groupby(\"response\")['balance'].median()"
      ],
      "execution_count": null,
      "outputs": [
        {
          "output_type": "execute_result",
          "data": {
            "text/plain": [
              "response\n",
              "no     417\n",
              "yes    733\n",
              "Name: balance, dtype: int64"
            ]
          },
          "metadata": {
            "tags": []
          },
          "execution_count": 522
        }
      ]
    },
    {
      "cell_type": "markdown",
      "metadata": {
        "id": "zxBBXf3aFWFC"
      },
      "source": [
        "##### 75th percentile "
      ]
    },
    {
      "cell_type": "code",
      "metadata": {
        "id": "Axu1jC74FWFD"
      },
      "source": [
        "#function to find the 75th percentile.\n",
        "def p75(x):\n",
        "    return np.quantile(x, 0.75)"
      ],
      "execution_count": null,
      "outputs": []
    },
    {
      "cell_type": "code",
      "metadata": {
        "id": "IIcZfHXaFWFD",
        "colab": {
          "base_uri": "https://localhost:8080/",
          "height": 141
        },
        "outputId": "f213f0f5-d3fb-4344-ae22-64e40b122322"
      },
      "source": [
        "#calculate the mean, median and 75th percentile of balance with response\n",
        "inp1.groupby(\"response\")['balance'].aggregate([\"mean\",\"median\", p75])"
      ],
      "execution_count": null,
      "outputs": [
        {
          "output_type": "execute_result",
          "data": {
            "text/html": [
              "<div>\n",
              "<style scoped>\n",
              "    .dataframe tbody tr th:only-of-type {\n",
              "        vertical-align: middle;\n",
              "    }\n",
              "\n",
              "    .dataframe tbody tr th {\n",
              "        vertical-align: top;\n",
              "    }\n",
              "\n",
              "    .dataframe thead th {\n",
              "        text-align: right;\n",
              "    }\n",
              "</style>\n",
              "<table border=\"1\" class=\"dataframe\">\n",
              "  <thead>\n",
              "    <tr style=\"text-align: right;\">\n",
              "      <th></th>\n",
              "      <th>mean</th>\n",
              "      <th>median</th>\n",
              "      <th>p75</th>\n",
              "    </tr>\n",
              "    <tr>\n",
              "      <th>response</th>\n",
              "      <th></th>\n",
              "      <th></th>\n",
              "      <th></th>\n",
              "    </tr>\n",
              "  </thead>\n",
              "  <tbody>\n",
              "    <tr>\n",
              "      <th>no</th>\n",
              "      <td>1304.292281</td>\n",
              "      <td>417</td>\n",
              "      <td>1345</td>\n",
              "    </tr>\n",
              "    <tr>\n",
              "      <th>yes</th>\n",
              "      <td>1804.681362</td>\n",
              "      <td>733</td>\n",
              "      <td>2159</td>\n",
              "    </tr>\n",
              "  </tbody>\n",
              "</table>\n",
              "</div>"
            ],
            "text/plain": [
              "                 mean  median   p75\n",
              "response                           \n",
              "no        1304.292281     417  1345\n",
              "yes       1804.681362     733  2159"
            ]
          },
          "metadata": {
            "tags": []
          },
          "execution_count": 525
        }
      ]
    },
    {
      "cell_type": "code",
      "metadata": {
        "id": "r0ZQ3K9-FWFE",
        "colab": {
          "base_uri": "https://localhost:8080/",
          "height": 287
        },
        "outputId": "edf6be94-c197-49af-d004-32e5a1e327a5"
      },
      "source": [
        "#plot the bar graph of balance's mean an median with response.\n",
        "inp1.groupby(\"response\")['balance'].aggregate([\"mean\",\"median\"]).plot.bar()\n",
        "plt.show()"
      ],
      "execution_count": null,
      "outputs": [
        {
          "output_type": "display_data",
          "data": {
            "image/png": "[encoded data removed]",
            "text/plain": [
              "<Figure size 432x288 with 1 Axes>"
            ]
          },
          "metadata": {
            "tags": [],
            "needs_background": "light"
          }
        }
      ]
    },
    {
      "cell_type": "markdown",
      "metadata": {
        "id": "a6eCcnuoFWFF"
      },
      "source": [
        "#### Education vs salary "
      ]
    },
    {
      "cell_type": "code",
      "metadata": {
        "id": "RTsvF217FWFG",
        "colab": {
          "base_uri": "https://localhost:8080/"
        },
        "outputId": "42327af3-7cf8-4778-b079-a8c6746e68a8"
      },
      "source": [
        "#groupby the education to find the mean of the salary education category.\n",
        "inp1.groupby(\"education\")['salary'].mean()"
      ],
      "execution_count": null,
      "outputs": [
        {
          "output_type": "execute_result",
          "data": {
            "text/plain": [
              "education\n",
              "primary      34232.343910\n",
              "secondary    49731.449525\n",
              "tertiary     82880.249887\n",
              "unknown      46529.633621\n",
              "Name: salary, dtype: float64"
            ]
          },
          "metadata": {
            "tags": []
          },
          "execution_count": 527
        }
      ]
    },
    {
      "cell_type": "code",
      "metadata": {
        "id": "BRtV2eIUFWFJ",
        "colab": {
          "base_uri": "https://localhost:8080/"
        },
        "outputId": "1a2e536a-f4b7-4441-f480-36837108961c"
      },
      "source": [
        "#groupby the education to find the median of the salary for each education category.\n",
        "inp1.groupby(\"education\")['salary'].median()"
      ],
      "execution_count": null,
      "outputs": [
        {
          "output_type": "execute_result",
          "data": {
            "text/plain": [
              "education\n",
              "primary       20000\n",
              "secondary     55000\n",
              "tertiary     100000\n",
              "unknown       50000\n",
              "Name: salary, dtype: int64"
            ]
          },
          "metadata": {
            "tags": []
          },
          "execution_count": 528
        }
      ]
    },
    {
      "cell_type": "markdown",
      "metadata": {
        "id": "p6I3hs_5FWFK"
      },
      "source": [
        "#### Job vs salary"
      ]
    },
    {
      "cell_type": "code",
      "metadata": {
        "id": "4K8iYustFWFK",
        "colab": {
          "base_uri": "https://localhost:8080/"
        },
        "outputId": "08cdbbb1-7890-4159-933e-7440df20bf51"
      },
      "source": [
        "#groupby the job to find the mean of the salary for each job category.\n",
        "inp1.groupby(\"job\")['salary'].mean()"
      ],
      "execution_count": null,
      "outputs": [
        {
          "output_type": "execute_result",
          "data": {
            "text/plain": [
              "job\n",
              "admin.            50000\n",
              "blue-collar       20000\n",
              "entrepreneur     120000\n",
              "housemaid         16000\n",
              "management       100000\n",
              "retired           55000\n",
              "self-employed     60000\n",
              "services          70000\n",
              "student            4000\n",
              "technician        60000\n",
              "unemployed         8000\n",
              "unknown               0\n",
              "Name: salary, dtype: int64"
            ]
          },
          "metadata": {
            "tags": []
          },
          "execution_count": 529
        }
      ]
    },
    {
      "cell_type": "markdown",
      "metadata": {
        "id": "gf5SOfTOFWFL"
      },
      "source": [
        "### Segment- 5, Categorical categorical variable "
      ]
    },
    {
      "cell_type": "code",
      "metadata": {
        "id": "PnoTUztrFWFL",
        "colab": {
          "base_uri": "https://localhost:8080/"
        },
        "outputId": "84a1b312-77b2-4b11-a34b-6659226e5571"
      },
      "source": [
        "#create response_flag of numerical data type where response \"yes\"= 1, \"no\"= 0\n",
        "inp1['response_flag'] = np.where(inp1.response == \"yes\", 1, 0)\n",
        "inp1.response_flag.value_counts()"
      ],
      "execution_count": null,
      "outputs": [
        {
          "output_type": "execute_result",
          "data": {
            "text/plain": [
              "0    39876\n",
              "1     5285\n",
              "Name: response_flag, dtype: int64"
            ]
          },
          "metadata": {
            "tags": []
          },
          "execution_count": 531
        }
      ]
    },
    {
      "cell_type": "markdown",
      "metadata": {
        "id": "SaO3c7fKFWFM"
      },
      "source": [
        "#### Education vs response rate"
      ]
    },
    {
      "cell_type": "code",
      "metadata": {
        "id": "XLG98HgLFWFM",
        "colab": {
          "base_uri": "https://localhost:8080/"
        },
        "outputId": "05089eb2-f466-4862-9ef3-ea68d31a8e41"
      },
      "source": [
        "#calculate the mean of response_flag with different education categories.\n",
        "inp1.groupby(\"education\")[\"response_flag\"].mean()"
      ],
      "execution_count": null,
      "outputs": [
        {
          "output_type": "execute_result",
          "data": {
            "text/plain": [
              "education\n",
              "primary      0.086416\n",
              "secondary    0.105608\n",
              "tertiary     0.150083\n",
              "unknown      0.135776\n",
              "Name: response_flag, dtype: float64"
            ]
          },
          "metadata": {
            "tags": []
          },
          "execution_count": 532
        }
      ]
    },
    {
      "cell_type": "markdown",
      "metadata": {
        "id": "VAL8oD5kFWFN"
      },
      "source": [
        "#### Marital vs response rate "
      ]
    },
    {
      "cell_type": "code",
      "metadata": {
        "id": "TPqHjP9ZFWFQ",
        "colab": {
          "base_uri": "https://localhost:8080/"
        },
        "outputId": "9a067d95-dd44-4f78-9c02-e41b8c96d9ea"
      },
      "source": [
        "#calculate the mean of response_flag with different marital status categories.\n",
        "inp1.groupby(\"marital\")[\"response_flag\"].mean()"
      ],
      "execution_count": null,
      "outputs": [
        {
          "output_type": "execute_result",
          "data": {
            "text/plain": [
              "marital\n",
              "divorced    0.119469\n",
              "married     0.101269\n",
              "single      0.149554\n",
              "Name: response_flag, dtype: float64"
            ]
          },
          "metadata": {
            "tags": []
          },
          "execution_count": 533
        }
      ]
    },
    {
      "cell_type": "code",
      "metadata": {
        "id": "g5IIUKhAFWFS",
        "colab": {
          "base_uri": "https://localhost:8080/",
          "height": 265
        },
        "outputId": "86606360-6e76-4204-ffab-cb073aaf93c3"
      },
      "source": [
        "#plot the bar graph of marital status with average value of response_flag\n",
        "inp1.groupby(\"marital\")[\"response_flag\"].mean().plot.barh()\n",
        "plt.show()"
      ],
      "execution_count": null,
      "outputs": [
        {
          "output_type": "display_data",
          "data": {
            "image/png": "[encoded data removed]",
            "text/plain": [
              "<Figure size 432x288 with 1 Axes>"
            ]
          },
          "metadata": {
            "tags": [],
            "needs_background": "light"
          }
        }
      ]
    },
    {
      "cell_type": "markdown",
      "metadata": {
        "id": "gdWEoGrKFWFT"
      },
      "source": [
        "#### Loans vs response rate "
      ]
    },
    {
      "cell_type": "code",
      "metadata": {
        "id": "nlJSJlLZFWFT",
        "colab": {
          "base_uri": "https://localhost:8080/",
          "height": 287
        },
        "outputId": "1c4fb909-4d2d-4714-970b-7fd294802a08"
      },
      "source": [
        "#plot the bar graph of personal loan status with average value of response_flag\n",
        "inp1.groupby(\"loan\")[\"response_flag\"].mean().plot.bar()\n",
        "plt.show()"
      ],
      "execution_count": null,
      "outputs": [
        {
          "output_type": "display_data",
          "data": {
            "image/png": "[encoded data removed]",
            "text/plain": [
              "<Figure size 432x288 with 1 Axes>"
            ]
          },
          "metadata": {
            "tags": [],
            "needs_background": "light"
          }
        }
      ]
    },
    {
      "cell_type": "markdown",
      "metadata": {
        "id": "UXPEmDRMFWFU"
      },
      "source": [
        "#### Housing loans vs response rate "
      ]
    },
    {
      "cell_type": "code",
      "metadata": {
        "id": "CPpxM2FdFWFU",
        "colab": {
          "base_uri": "https://localhost:8080/",
          "height": 287
        },
        "outputId": "2a933742-0b8a-4e08-f892-3f317a78eea5"
      },
      "source": [
        "#plot the bar graph of housing loan status with average value of response_flag\n",
        "inp1.groupby(\"housing\")[\"response_flag\"].mean().plot.bar()\n",
        "plt.show()"
      ],
      "execution_count": null,
      "outputs": [
        {
          "output_type": "display_data",
          "data": {
            "image/png": "[encoded data removed]",
            "text/plain": [
              "<Figure size 432x288 with 1 Axes>"
            ]
          },
          "metadata": {
            "tags": [],
            "needs_background": "light"
          }
        }
      ]
    },
    {
      "cell_type": "markdown",
      "metadata": {
        "id": "qkqsnu1ZFWFV"
      },
      "source": [
        "#### Age vs response "
      ]
    },
    {
      "cell_type": "code",
      "metadata": {
        "id": "_0cGWz47FWFV",
        "colab": {
          "base_uri": "https://localhost:8080/",
          "height": 280
        },
        "outputId": "c45ca3bc-9352-4285-8f36-87a046043da4"
      },
      "source": [
        "#plot the boxplot of age with response_flag\n",
        "sns.boxplot(data =inp1, x='response_flag', y = 'age')\n",
        "plt.show()"
      ],
      "execution_count": null,
      "outputs": [
        {
          "output_type": "display_data",
          "data": {
            "image/png": "[encoded data removed]",
            "text/plain": [
              "<Figure size 432x288 with 1 Axes>"
            ]
          },
          "metadata": {
            "tags": [],
            "needs_background": "light"
          }
        }
      ]
    },
    {
      "cell_type": "markdown",
      "metadata": {
        "id": "FgtCKNWWFWFW"
      },
      "source": [
        "##### making buckets from age columns "
      ]
    },
    {
      "cell_type": "code",
      "metadata": {
        "id": "00ddRZirFWFW"
      },
      "source": [
        "#create the buckets of <30, 30-40, 40-50 50-60 and 60+ from age column.\n",
        "inp1['age_group'] = pd.cut(inp1.age, [0,30,40,50,60,9999], labels = [\"<30\",\"30-40\", \"40-50\", \"50-60\",\"60+\" ])"
      ],
      "execution_count": null,
      "outputs": []
    },
    {
      "cell_type": "code",
      "metadata": {
        "id": "Av9QIRuzFWFX",
        "colab": {
          "base_uri": "https://localhost:8080/"
        },
        "outputId": "6fa8f358-cbb4-4b4b-aafd-b7c35afd741c"
      },
      "source": [
        "#plot the percentage of each buckets and average values of response_flag in each buckets. plot in subplots.\n",
        "inp1.age_group.value_counts(normalize= True)"
      ],
      "execution_count": null,
      "outputs": [
        {
          "output_type": "execute_result",
          "data": {
            "text/plain": [
              "30-40    0.391090\n",
              "40-50    0.248688\n",
              "50-60    0.178406\n",
              "<30      0.155555\n",
              "60+      0.026262\n",
              "Name: age_group, dtype: float64"
            ]
          },
          "metadata": {
            "tags": []
          },
          "execution_count": 548
        }
      ]
    },
    {
      "cell_type": "code",
      "metadata": {
        "id": "2Ps2ExGYFWFX",
        "colab": {
          "base_uri": "https://localhost:8080/",
          "height": 298
        },
        "outputId": "cc7c33c2-60a1-419a-9fb0-0e75753efe33"
      },
      "source": [
        "#plot the bar graph of job categories with response_flag mean value.\n",
        "plt.figure(figsize=[10,4])\n",
        "plt.subplot(1,2,1)\n",
        "inp1.age_group.value_counts(normalize= True).plot.bar()\n",
        "plt.subplot(1,2,2)\n",
        "inp1.groupby(\"age_group\")[\"response_flag\"].mean().plot.bar()\n",
        "plt.show()"
      ],
      "execution_count": null,
      "outputs": [
        {
          "output_type": "display_data",
          "data": {
            "image/png": "[encoded data removed]",
            "text/plain": [
              "<Figure size 720x288 with 2 Axes>"
            ]
          },
          "metadata": {
            "tags": [],
            "needs_background": "light"
          }
        }
      ]
    },
    {
      "cell_type": "markdown",
      "metadata": {
        "id": "EoAzlNTVFWFY"
      },
      "source": [
        "### Segment-6, Multivariate analysis "
      ]
    },
    {
      "cell_type": "markdown",
      "metadata": {
        "id": "NZGOnzDhFWFY"
      },
      "source": [
        "#### Education vs marital vs response "
      ]
    },
    {
      "cell_type": "code",
      "metadata": {
        "id": "ATTysRiYFWFY",
        "colab": {
          "base_uri": "https://localhost:8080/",
          "height": 297
        },
        "outputId": "fbbf5733-e674-4432-cc71-1333cf0295ae"
      },
      "source": [
        "#create heat map of education vs marital vs response_flag\n",
        "res1 = pd.pivot_table(data = inp1, index = \"education\", columns= 'marital', values= \"response_flag\")\n",
        "sns.heatmap(res, annot= True, cmap= \"RdYlGn\", center = 0.117)"
      ],
      "execution_count": null,
      "outputs": [
        {
          "output_type": "execute_result",
          "data": {
            "text/plain": [
              "<matplotlib.axes._subplots.AxesSubplot at 0x7f01a78448d0>"
            ]
          },
          "metadata": {
            "tags": []
          },
          "execution_count": 554
        },
        {
          "output_type": "display_data",
          "data": {
            "image/png": "[encoded data removed]",
            "text/plain": [
              "<Figure size 432x288 with 2 Axes>"
            ]
          },
          "metadata": {
            "tags": [],
            "needs_background": "light"
          }
        }
      ]
    },
    {
      "cell_type": "markdown",
      "metadata": {
        "id": "AmsIJOVkFWFZ"
      },
      "source": [
        "#### Job vs marital vs response "
      ]
    },
    {
      "cell_type": "code",
      "metadata": {
        "id": "nt8STbMXFWFZ",
        "colab": {
          "base_uri": "https://localhost:8080/",
          "height": 297
        },
        "outputId": "bf654516-ae01-4b4b-8f22-888d6be335f4"
      },
      "source": [
        "#create the heat map of Job vs marital vs response_flag.\n",
        "res2 = pd.pivot_table(data = inp1, index = \"job\", columns= 'marital', values= \"response_flag\")\n",
        "sns.heatmap(res2, annot= True, cmap= \"RdYlGn\", center = 0.117)"
      ],
      "execution_count": null,
      "outputs": [
        {
          "output_type": "execute_result",
          "data": {
            "text/plain": [
              "<matplotlib.axes._subplots.AxesSubplot at 0x7f019e3e6128>"
            ]
          },
          "metadata": {
            "tags": []
          },
          "execution_count": 558
        },
        {
          "output_type": "display_data",
          "data": {
            "image/png": "[encoded data removed]",
            "text/plain": [
              "<Figure size 432x288 with 2 Axes>"
            ]
          },
          "metadata": {
            "tags": [],
            "needs_background": "light"
          }
        }
      ]
    },
    {
      "cell_type": "markdown",
      "metadata": {
        "id": "DBBDPlmTFWFb"
      },
      "source": [
        "#### Education vs poutcome vs response"
      ]
    },
    {
      "cell_type": "code",
      "metadata": {
        "id": "uNVzn-u8FWFb",
        "colab": {
          "base_uri": "https://localhost:8080/",
          "height": 297
        },
        "outputId": "cc70fa63-bf56-4c0e-d2d5-760b37bad7da"
      },
      "source": [
        "#create the heat map of education vs poutcome vs response_flag.\n",
        "res3 = pd.pivot_table(data = inp1, index = \"education\", columns= 'poutcome', values= \"response_flag\")\n",
        "sns.heatmap(res3, annot= True, cmap= \"RdYlGn\", center = 0.23)"
      ],
      "execution_count": null,
      "outputs": [
        {
          "output_type": "execute_result",
          "data": {
            "text/plain": [
              "<matplotlib.axes._subplots.AxesSubplot at 0x7f019e6136d8>"
            ]
          },
          "metadata": {
            "tags": []
          },
          "execution_count": 562
        },
        {
          "output_type": "display_data",
          "data": {
            "image/png": "[encoded data removed]",
            "text/plain": [
              "<Figure size 432x288 with 2 Axes>"
            ]
          },
          "metadata": {
            "tags": [],
            "needs_background": "light"
          }
        }
      ]
    },
    {
      "cell_type": "code",
      "metadata": {
        "colab": {
          "base_uri": "https://localhost:8080/"
        },
        "id": "AuE8Wh9tVexi",
        "outputId": "31a8bed3-dee6-4033-c8b3-fb0c12ac80a4"
      },
      "source": [
        "inp1[inp1.pdays>0].response_flag.mean()"
      ],
      "execution_count": null,
      "outputs": [
        {
          "output_type": "execute_result",
          "data": {
            "text/plain": [
              "0.2307785593014795"
            ]
          },
          "metadata": {
            "tags": []
          },
          "execution_count": 561
        }
      ]
    }
  ]
}